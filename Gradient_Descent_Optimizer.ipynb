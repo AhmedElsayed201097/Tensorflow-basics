{
  "nbformat": 4,
  "nbformat_minor": 0,
  "metadata": {
    "colab": {
      "name": "Gradient Descent Optimizer.ipynb",
      "provenance": [],
      "authorship_tag": "ABX9TyMUvutzHqJ8hkT9kPO8uGkY",
      "include_colab_link": true
    },
    "kernelspec": {
      "name": "python3",
      "display_name": "Python 3"
    }
  },
  "cells": [
    {
      "cell_type": "markdown",
      "metadata": {
        "id": "view-in-github",
        "colab_type": "text"
      },
      "source": [
        "<a href=\"https://colab.research.google.com/github/AhmedElsayed201097/Tensorflow-basics/blob/master/Gradient_Descent_Optimizer.ipynb\" target=\"_parent\"><img src=\"https://colab.research.google.com/assets/colab-badge.svg\" alt=\"Open In Colab\"/></a>"
      ]
    },
    {
      "cell_type": "code",
      "metadata": {
        "id": "ARuYf5s7L-oL",
        "colab_type": "code",
        "colab": {
          "base_uri": "https://localhost:8080/",
          "height": 63
        },
        "outputId": "1f565e42-aad8-4e0d-d1ea-7f5c518ae31c"
      },
      "source": [
        "# Gradient Descent Optimizer is one technique used to optimize unknow variables \n",
        "'''\n",
        "steps to find the best values of equation \n",
        "1-define constants,variables ,placeholders\n",
        "2-define equation \n",
        "3-define cost function \n",
        "4- make object from GDO\n",
        "5-train the model with number of iteration \n",
        "6- display values of unkown_var'''\n",
        "import tensorflow as tf\n"
      ],
      "execution_count": 1,
      "outputs": [
        {
          "output_type": "display_data",
          "data": {
            "text/html": [
              "<p style=\"color: red;\">\n",
              "The default version of TensorFlow in Colab will soon switch to TensorFlow 2.x.<br>\n",
              "We recommend you <a href=\"https://www.tensorflow.org/guide/migrate\" target=\"_blank\">upgrade</a> now \n",
              "or ensure your notebook will continue to use TensorFlow 1.x via the <code>%tensorflow_version 1.x</code> magic:\n",
              "<a href=\"https://colab.research.google.com/notebooks/tensorflow_version.ipynb\" target=\"_blank\">more info</a>.</p>\n"
            ],
            "text/plain": [
              "<IPython.core.display.HTML object>"
            ]
          },
          "metadata": {
            "tags": []
          }
        }
      ]
    },
    {
      "cell_type": "code",
      "metadata": {
        "id": "Woo8GPyTNNJi",
        "colab_type": "code",
        "colab": {}
      },
      "source": [
        "#Examople 1\n",
        "# the equation is  : 4x+2 = 0\n",
        "# cost function of the equation     square (equation-zerovalue)\n",
        "#1-define constants,variables ,placeholders\n",
        "a = tf.constant(4.0)\n",
        "b = tf.constant(2.0)\n",
        "unknownvalue = tf.Variable(0.0)\n",
        "#2-define equation \n",
        "equation =tf.add(tf.multiply(a,unknownvalue),b)\n",
        "#3-cost\n",
        "zerovalue = tf.constant(0.0)\n",
        "diff = tf.square(equation-zerovalue) # differnce is : 4x+2  -  0 "
      ],
      "execution_count": 0,
      "outputs": []
    },
    {
      "cell_type": "code",
      "metadata": {
        "id": "EtVoUYPvSYKm",
        "colab_type": "code",
        "colab": {
          "base_uri": "https://localhost:8080/",
          "height": 34
        },
        "outputId": "5b5a797f-fd22-4940-a24e-ef28fbcde544"
      },
      "source": [
        "#4- make object from GDO\n",
        "solving = tf.train.GradientDescentOptimizer(0.01).minimize(diff)\n",
        "init=tf.global_variables_initializer()\n",
        "sess=tf.Session()\n",
        "sess.run(init)\n",
        "#5-train the model with number of iteration \n",
        "for i in range (1000):\n",
        "  sess.run(solving)\n",
        "#6- display values of unkown_var\n",
        "sess.run(unknownvalue)  \n"
      ],
      "execution_count": 10,
      "outputs": [
        {
          "output_type": "execute_result",
          "data": {
            "text/plain": [
              "-0.49999997"
            ]
          },
          "metadata": {
            "tags": []
          },
          "execution_count": 10
        }
      ]
    },
    {
      "cell_type": "code",
      "metadata": {
        "id": "nkUiP-WVTAbC",
        "colab_type": "code",
        "colab": {}
      },
      "source": [
        "#example 2\n",
        "# the equation is  : x**2 + 7x+ 12 = 0\n",
        "# cost function of the equation     square (equation-zerovalue)"
      ],
      "execution_count": 0,
      "outputs": []
    },
    {
      "cell_type": "code",
      "metadata": {
        "id": "L6P_EapnTkA3",
        "colab_type": "code",
        "colab": {
          "base_uri": "https://localhost:8080/",
          "height": 105
        },
        "outputId": "6280de7a-1384-428e-ee85-f706e77e9a71"
      },
      "source": [
        "#1-define constants,variables ,placeholders\n",
        "a = tf.constant(7.0)\n",
        "b = tf.constant(12.0)\n",
        "unknownvalue = tf.Variable(0.0)\n",
        "#2-define equation \n",
        "equation=tf.add(tf.add(tf.pow(unknownvalue,2),tf.multiply(unknownvalue,a)),b)\n",
        "#3-cost\n",
        "zerovalue = tf.constant(0.0)\n",
        "diff = tf.square(equation-zerovalue) # differnce is : x**2 + 7x+ 12  -  0 \n",
        "#4- make object from GDO\n",
        "solving = tf.train.GradientDescentOptimizer(0.01).minimize(diff)\n",
        "init=tf.global_variables_initializer()\n",
        "sess=tf.Session()\n",
        "sess.run(init)\n",
        "#5-train the model with number of iteration \n",
        "for i in range (1000):\n",
        "  sess.run(solving)\n",
        "#6- display values of unkown_var\n",
        "sess.run(unknownvalue)  \n"
      ],
      "execution_count": 11,
      "outputs": [
        {
          "output_type": "stream",
          "text": [
            "WARNING:tensorflow:From /usr/local/lib/python3.6/dist-packages/tensorflow_core/python/ops/math_grad.py:1375: where (from tensorflow.python.ops.array_ops) is deprecated and will be removed in a future version.\n",
            "Instructions for updating:\n",
            "Use tf.where in 2.0, which has the same broadcast rule as np.where\n"
          ],
          "name": "stdout"
        },
        {
          "output_type": "execute_result",
          "data": {
            "text/plain": [
              "-2.9999933"
            ]
          },
          "metadata": {
            "tags": []
          },
          "execution_count": 11
        }
      ]
    },
    {
      "cell_type": "code",
      "metadata": {
        "id": "QCnXga9fUdAe",
        "colab_type": "code",
        "colab": {}
      },
      "source": [
        ""
      ],
      "execution_count": 0,
      "outputs": []
    }
  ]
}