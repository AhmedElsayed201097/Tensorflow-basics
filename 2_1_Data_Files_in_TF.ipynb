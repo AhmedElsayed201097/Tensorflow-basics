{
  "nbformat": 4,
  "nbformat_minor": 0,
  "metadata": {
    "kernelspec": {
      "display_name": "Python 3",
      "language": "python",
      "name": "python3"
    },
    "language_info": {
      "codemirror_mode": {
        "name": "ipython",
        "version": 3
      },
      "file_extension": ".py",
      "mimetype": "text/x-python",
      "name": "python",
      "nbconvert_exporter": "python",
      "pygments_lexer": "ipython3",
      "version": "3.7.3"
    },
    "colab": {
      "name": "2.1 Data Files in TF.ipynb",
      "provenance": [],
      "include_colab_link": true
    }
  },
  "cells": [
    {
      "cell_type": "markdown",
      "metadata": {
        "id": "view-in-github",
        "colab_type": "text"
      },
      "source": [
        "<a href=\"https://colab.research.google.com/github/AhmedElsayed201097/Tensorflow-basics/blob/master/2_1_Data_Files_in_TF.ipynb\" target=\"_parent\"><img src=\"https://colab.research.google.com/assets/colab-badge.svg\" alt=\"Open In Colab\"/></a>"
      ]
    },
    {
      "cell_type": "code",
      "metadata": {
        "id": "tazrK4rwzpqF",
        "colab_type": "code",
        "colab": {
          "base_uri": "https://localhost:8080/",
          "height": 63
        },
        "outputId": "fac0abd1-2629-42d2-be33-7c765a7142e2"
      },
      "source": [
        "import tensorflow as tf\n",
        "import numpy as np\n",
        "import matplotlib.pyplot as plt\n",
        "%matplotlib inline"
      ],
      "execution_count": 1,
      "outputs": [
        {
          "output_type": "display_data",
          "data": {
            "text/html": [
              "<p style=\"color: red;\">\n",
              "The default version of TensorFlow in Colab will soon switch to TensorFlow 2.x.<br>\n",
              "We recommend you <a href=\"https://www.tensorflow.org/guide/migrate\" target=\"_blank\">upgrade</a> now \n",
              "or ensure your notebook will continue to use TensorFlow 1.x via the <code>%tensorflow_version 1.x</code> magic:\n",
              "<a href=\"https://colab.research.google.com/notebooks/tensorflow_version.ipynb\" target=\"_blank\">more info</a>.</p>\n"
            ],
            "text/plain": [
              "<IPython.core.display.HTML object>"
            ]
          },
          "metadata": {
            "tags": []
          }
        }
      ]
    },
    {
      "cell_type": "code",
      "metadata": {
        "id": "j0vIARn50R2h",
        "colab_type": "code",
        "colab": {}
      },
      "source": [
        "# tensorflow has some of datasets that can be used in learning  like \n",
        "'''\n",
        "•\tboston housing\n",
        "•\tcifar10\n",
        "•\tcifar100\n",
        "•\tmnist\n",
        "•\tfashion mnist\n",
        "•\timdb\n",
        "•\treuters\n",
        "'''"
      ],
      "execution_count": 0,
      "outputs": []
    },
    {
      "cell_type": "code",
      "metadata": {
        "id": "eVo29NT50qoF",
        "colab_type": "code",
        "colab": {}
      },
      "source": [
        "###tf.keras.datasets.dataset_name.load_data(path,test_split,seed)   used to load data "
      ],
      "execution_count": 0,
      "outputs": []
    },
    {
      "cell_type": "code",
      "metadata": {
        "id": "rvUGSsZizpqT",
        "colab_type": "code",
        "colab": {
          "base_uri": "https://localhost:8080/",
          "height": 272
        },
        "outputId": "fc485143-0450-4310-b9c1-08a7d417a758"
      },
      "source": [
        "# boston housing  is dataset about houses prices in boston \n",
        "(x_train, y_train), (x_test, y_test) = tf.keras.datasets.boston_housing.load_data(path='boston_housing.npz',\n",
        "test_split=0.2,seed=113)\n",
        "\n",
        "print('X Train Shape is : ' , x_train.shape)\n",
        "print('X Train  is : ' , x_train[5])\n",
        "print('---------------------------------------- ')\n",
        "print('X Test Shape is : ' , x_test.shape)\n",
        "print('X Test  is : ' , x_test[5])\n",
        "print('---------------------------------------- ')\n",
        "print('y Train Shape is : ' , y_train.shape)\n",
        "print('y Train is : ' , y_train[5])\n",
        "print('---------------------------------------- ')\n",
        "print('y Test Shape is : ' , y_test.shape)\n",
        "print('y Test  is : ' , y_test[5])"
      ],
      "execution_count": 3,
      "outputs": [
        {
          "output_type": "stream",
          "text": [
            "X Train Shape is :  (404, 13)\n",
            "X Train  is :  [2.8392e-01 0.0000e+00 7.3800e+00 0.0000e+00 4.9300e-01 5.7080e+00\n",
            " 7.4300e+01 4.7211e+00 5.0000e+00 2.8700e+02 1.9600e+01 3.9113e+02\n",
            " 1.1740e+01]\n",
            "---------------------------------------- \n",
            "X Test Shape is :  (102, 13)\n",
            "X Test  is :  [2.7957e-01 0.0000e+00 9.6900e+00 0.0000e+00 5.8500e-01 5.9260e+00\n",
            " 4.2600e+01 2.3817e+00 6.0000e+00 3.9100e+02 1.9200e+01 3.9690e+02\n",
            " 1.3590e+01]\n",
            "---------------------------------------- \n",
            "y Train Shape is :  (404,)\n",
            "y Train is :  18.5\n",
            "---------------------------------------- \n",
            "y Test Shape is :  (102,)\n",
            "y Test  is :  24.5\n"
          ],
          "name": "stdout"
        }
      ]
    },
    {
      "cell_type": "code",
      "metadata": {
        "id": "nUxXN1UNzpqd",
        "colab_type": "code",
        "colab": {
          "base_uri": "https://localhost:8080/",
          "height": 1000
        },
        "outputId": "341c5476-1041-42d2-e636-98625381704e"
      },
      "source": [
        "# cifar100    60000 random images    50000 for training 10000 for test   with 100 labels\n",
        "(x_train, y_train), (x_test, y_test) = tf.keras.datasets.cifar10.load_data()\n",
        "\n",
        "print('X Train Shape is : ' , x_train.shape)\n",
        "print('X Train  is : ' , x_train[5])\n",
        "print('---------------------------------------- ')\n",
        "print('X Test Shape is : ' , x_test.shape)\n",
        "print('X Test  is : ' , x_test[5])\n",
        "print('---------------------------------------- ')\n",
        "print('y Train Shape is : ' , y_train.shape)\n",
        "print('y Train is : ' , y_train[5])\n",
        "print('---------------------------------------- ')\n",
        "print('y Test Shape is : ' , y_test.shape)\n",
        "print('y Test  is : ' , y_test[5])\n",
        "print('---------------------------------------- ')\n",
        "print('All y is : ' , np.unique( y_train ))     #np.unique()       used to display unique values in y_train\n",
        "print(y_train[5])\n",
        "plt.imshow(x_train[5])\n",
        "for i in range(5,10):\n",
        "  plt.imshow(x_train[i])\n",
        "  plt.show()  #### must be set to run all images"
      ],
      "execution_count": 7,
      "outputs": [
        {
          "output_type": "stream",
          "text": [
            "X Train Shape is :  (50000, 32, 32, 3)\n",
            "X Train  is :  [[[159 102 101]\n",
            "  [150  91  95]\n",
            "  [153  95  97]\n",
            "  ...\n",
            "  [ 91  71  56]\n",
            "  [ 74  63  55]\n",
            "  [ 76  58  55]]\n",
            "\n",
            " [[142  75  68]\n",
            "  [146  72  66]\n",
            "  [155  76  65]\n",
            "  ...\n",
            "  [127 105  71]\n",
            "  [122 111  93]\n",
            "  [ 86  69  61]]\n",
            "\n",
            " [[109  67  75]\n",
            "  [ 99  58  60]\n",
            "  [105  59  52]\n",
            "  ...\n",
            "  [137 112  80]\n",
            "  [163 132 105]\n",
            "  [ 93  72  71]]\n",
            "\n",
            " ...\n",
            "\n",
            " [[244 129  70]\n",
            "  [240 123  65]\n",
            "  [241 122  65]\n",
            "  ...\n",
            "  [156  42  15]\n",
            "  [179  59  26]\n",
            "  [200  73  36]]\n",
            "\n",
            " [[246 133  74]\n",
            "  [243 128  72]\n",
            "  [243 127  70]\n",
            "  ...\n",
            "  [162  44  14]\n",
            "  [178  56  22]\n",
            "  [192  65  27]]\n",
            "\n",
            " [[246 139  82]\n",
            "  [243 133  78]\n",
            "  [244 132  77]\n",
            "  ...\n",
            "  [166  47  14]\n",
            "  [173  51  17]\n",
            "  [182  57  19]]]\n",
            "---------------------------------------- \n",
            "X Test Shape is :  (10000, 32, 32, 3)\n",
            "X Test  is :  [[[179 118  83]\n",
            "  [139  96  61]\n",
            "  [ 77  49  26]\n",
            "  ...\n",
            "  [ 87  53  46]\n",
            "  [ 76  47  41]\n",
            "  [ 77  47  41]]\n",
            "\n",
            " [[184 130  97]\n",
            "  [133  88  53]\n",
            "  [128  89  58]\n",
            "  ...\n",
            "  [ 98  61  53]\n",
            "  [ 91  58  51]\n",
            "  [ 90  57  49]]\n",
            "\n",
            " [[180 132 100]\n",
            "  [152 104  71]\n",
            "  [176 129  92]\n",
            "  ...\n",
            "  [101  62  53]\n",
            "  [ 93  56  47]\n",
            "  [ 95  57  49]]\n",
            "\n",
            " ...\n",
            "\n",
            " [[142  73  61]\n",
            "  [149  84  75]\n",
            "  [144  81  73]\n",
            "  ...\n",
            "  [119  68  56]\n",
            "  [139  87  78]\n",
            "  [159 100  89]]\n",
            "\n",
            " [[152  83  70]\n",
            "  [166  96  81]\n",
            "  [179 106  90]\n",
            "  ...\n",
            "  [131  77  65]\n",
            "  [144  87  77]\n",
            "  [153  90  79]]\n",
            "\n",
            " [[159  92  79]\n",
            "  [178 107  93]\n",
            "  [183 113  95]\n",
            "  ...\n",
            "  [150  90  76]\n",
            "  [153  91  79]\n",
            "  [152  87  73]]]\n",
            "---------------------------------------- \n",
            "y Train Shape is :  (50000, 1)\n",
            "y Train is :  [1]\n",
            "---------------------------------------- \n",
            "y Test Shape is :  (10000, 1)\n",
            "y Test  is :  [6]\n",
            "---------------------------------------- \n",
            "All y is :  [0 1 2 3 4 5 6 7 8 9]\n",
            "[1]\n"
          ],
          "name": "stdout"
        },
        {
          "output_type": "display_data",
          "data": {
            "image/png": "[encoded data removed]",
            "text/plain": [
              "<Figure size 432x288 with 1 Axes>"
            ]
          },
          "metadata": {
            "tags": []
          }
        },
        {
          "output_type": "display_data",
          "data": {
            "image/png": "[encoded data removed]",
            "text/plain": [
              "<Figure size 432x288 with 1 Axes>"
            ]
          },
          "metadata": {
            "tags": []
          }
        },
        {
          "output_type": "display_data",
          "data": {
            "image/png": "[encoded data removed]",
            "text/plain": [
              "<Figure size 432x288 with 1 Axes>"
            ]
          },
          "metadata": {
            "tags": []
          }
        },
        {
          "output_type": "display_data",
          "data": {
            "image/png": "[encoded data removed]",
            "text/plain": [
              "<Figure size 432x288 with 1 Axes>"
            ]
          },
          "metadata": {
            "tags": []
          }
        },
        {
          "output_type": "display_data",
          "data": {
            "image/png": "[encoded data removed]",
            "text/plain": [
              "<Figure size 432x288 with 1 Axes>"
            ]
          },
          "metadata": {
            "tags": []
          }
        }
      ]
    },
    {
      "cell_type": "code",
      "metadata": {
        "id": "ln96lA6ozpqm",
        "colab_type": "code",
        "colab": {
          "base_uri": "https://localhost:8080/",
          "height": 1000
        },
        "outputId": "7326fb17-4e61-44e7-ab05-5dd3c5034dd6"
      },
      "source": [
        "# cifar100    60000 random images    50000 for training 10000 for test   with 100 labels\n",
        "(x_train, y_train), (x_test, y_test) = tf.keras.datasets.cifar100.load_data()\n",
        "\n",
        "print('X Train Shape is : ' , x_train.shape)\n",
        "print('X Train  is : ' , x_train[5])\n",
        "print('---------------------------------------- ')\n",
        "print('X Test Shape is : ' , x_test.shape)\n",
        "print('X Test  is : ' , x_test[5])\n",
        "print('---------------------------------------- ')\n",
        "print('y Train Shape is : ' , y_train.shape)\n",
        "print('y Train is : ' , y_train[5])\n",
        "print('---------------------------------------- ')\n",
        "print('y Test Shape is : ' , y_test.shape)\n",
        "print('y Test  is : ' , y_test[5])\n",
        "print('---------------------------------------- ')\n",
        "print('All y is : ' , np.unique( y_train ))\n",
        "for i in range(5,15):\n",
        "  plt.imshow(x_train[i])\n",
        "  plt.show()"
      ],
      "execution_count": 11,
      "outputs": [
        {
          "output_type": "stream",
          "text": [
            "X Train Shape is :  (50000, 32, 32, 3)\n",
            "X Train  is :  [[[190 166 125]\n",
            "  [191 166 123]\n",
            "  [194 167 123]\n",
            "  ...\n",
            "  [ 38  24  14]\n",
            "  [ 28  18  10]\n",
            "  [ 25  14   9]]\n",
            "\n",
            " [[195 149 113]\n",
            "  [192 145 111]\n",
            "  [195 147 115]\n",
            "  ...\n",
            "  [  3   0   5]\n",
            "  [  0   0   3]\n",
            "  [  1   2   4]]\n",
            "\n",
            " [[141  46  34]\n",
            "  [124  38  28]\n",
            "  [114  37  27]\n",
            "  ...\n",
            "  [ 23   3   2]\n",
            "  [  5   1   3]\n",
            "  [  4   0   1]]\n",
            "\n",
            " ...\n",
            "\n",
            " [[255 255 255]\n",
            "  [243 242 243]\n",
            "  [234 232 233]\n",
            "  ...\n",
            "  [253 253 250]\n",
            "  [255 253 254]\n",
            "  [255 255 255]]\n",
            "\n",
            " [[255 255 255]\n",
            "  [224 223 229]\n",
            "  [167 165 181]\n",
            "  ...\n",
            "  [254 254 253]\n",
            "  [254 251 252]\n",
            "  [255 255 255]]\n",
            "\n",
            " [[255 255 255]\n",
            "  [235 234 240]\n",
            "  [203 200 214]\n",
            "  ...\n",
            "  [252 252 252]\n",
            "  [254 253 254]\n",
            "  [255 255 255]]]\n",
            "---------------------------------------- \n",
            "X Test Shape is :  (10000, 32, 32, 3)\n",
            "X Test  is :  [[[168 160 108]\n",
            "  [166 160 102]\n",
            "  [156 149  91]\n",
            "  ...\n",
            "  [ 79  69  56]\n",
            "  [ 70  76  62]\n",
            "  [ 64  72  58]]\n",
            "\n",
            " [[157 155 103]\n",
            "  [159 158 101]\n",
            "  [151 150  94]\n",
            "  ...\n",
            "  [ 88  78  66]\n",
            "  [ 73  78  65]\n",
            "  [ 64  73  59]]\n",
            "\n",
            " [[150 148 100]\n",
            "  [151 151  96]\n",
            "  [150 150  96]\n",
            "  ...\n",
            "  [ 95  86  74]\n",
            "  [ 74  80  67]\n",
            "  [ 66  74  60]]\n",
            "\n",
            " ...\n",
            "\n",
            " [[171 169 112]\n",
            "  [173 170 117]\n",
            "  [169 167 109]\n",
            "  ...\n",
            "  [ 67  48  36]\n",
            "  [ 63  47  31]\n",
            "  [ 57  49  35]]\n",
            "\n",
            " [[ 95  88  56]\n",
            "  [ 81  75  47]\n",
            "  [ 70  65  33]\n",
            "  ...\n",
            "  [ 59  41  30]\n",
            "  [ 58  42  25]\n",
            "  [ 58  47  31]]\n",
            "\n",
            " [[ 38  28  19]\n",
            "  [ 33  23  13]\n",
            "  [ 40  32  15]\n",
            "  ...\n",
            "  [ 79  62  50]\n",
            "  [ 71  54  38]\n",
            "  [ 62  49  31]]]\n",
            "---------------------------------------- \n",
            "y Train Shape is :  (50000, 1)\n",
            "y Train is :  [86]\n",
            "---------------------------------------- \n",
            "y Test Shape is :  (10000, 1)\n",
            "y Test  is :  [92]\n",
            "---------------------------------------- \n",
            "All y is :  [ 0  1  2  3  4  5  6  7  8  9 10 11 12 13 14 15 16 17 18 19 20 21 22 23\n",
            " 24 25 26 27 28 29 30 31 32 33 34 35 36 37 38 39 40 41 42 43 44 45 46 47\n",
            " 48 49 50 51 52 53 54 55 56 57 58 59 60 61 62 63 64 65 66 67 68 69 70 71\n",
            " 72 73 74 75 76 77 78 79 80 81 82 83 84 85 86 87 88 89 90 91 92 93 94 95\n",
            " 96 97 98 99]\n"
          ],
          "name": "stdout"
        },
        {
          "output_type": "display_data",
          "data": {
            "image/png": "[encoded data removed]",
            "text/plain": [
              "<Figure size 432x288 with 1 Axes>"
            ]
          },
          "metadata": {
            "tags": []
          }
        },
        {
          "output_type": "display_data",
          "data": {
            "image/png": "[encoded data removed]",
            "text/plain": [
              "<Figure size 432x288 with 1 Axes>"
            ]
          },
          "metadata": {
            "tags": []
          }
        },
        {
          "output_type": "display_data",
          "data": {
            "image/png": "[encoded data removed]",
            "text/plain": [
              "<Figure size 432x288 with 1 Axes>"
            ]
          },
          "metadata": {
            "tags": []
          }
        },
        {
          "output_type": "display_data",
          "data": {
            "image/png": "[encoded data removed]",
            "text/plain": [
              "<Figure size 432x288 with 1 Axes>"
            ]
          },
          "metadata": {
            "tags": []
          }
        },
        {
          "output_type": "display_data",
          "data": {
            "image/png": "[encoded data removed]",
            "text/plain": [
              "<Figure size 432x288 with 1 Axes>"
            ]
          },
          "metadata": {
            "tags": []
          }
        },
        {
          "output_type": "display_data",
          "data": {
            "image/png": "[encoded data removed]",
            "text/plain": [
              "<Figure size 432x288 with 1 Axes>"
            ]
          },
          "metadata": {
            "tags": []
          }
        },
        {
          "output_type": "display_data",
          "data": {
            "image/png": "[encoded data removed]",
            "text/plain": [
              "<Figure size 432x288 with 1 Axes>"
            ]
          },
          "metadata": {
            "tags": []
          }
        },
        {
          "output_type": "display_data",
          "data": {
            "image/png": "[encoded data removed]",
            "text/plain": [
              "<Figure size 432x288 with 1 Axes>"
            ]
          },
          "metadata": {
            "tags": []
          }
        },
        {
          "output_type": "display_data",
          "data": {
            "image/png": "[encoded data removed]",
            "text/plain": [
              "<Figure size 432x288 with 1 Axes>"
            ]
          },
          "metadata": {
            "tags": []
          }
        },
        {
          "output_type": "display_data",
          "data": {
            "image/png": "[encoded data removed]",
            "text/plain": [
              "<Figure size 432x288 with 1 Axes>"
            ]
          },
          "metadata": {
            "tags": []
          }
        }
      ]
    },
    {
      "cell_type": "code",
      "metadata": {
        "id": "WI_5d_z_zpqv",
        "colab_type": "code",
        "colab": {
          "base_uri": "https://localhost:8080/",
          "height": 1000
        },
        "outputId": "92785c37-be8b-482a-d2ce-65b188fab0e8"
      },
      "source": [
        "# mnist dataset 70000 random pic of handwritten numbers from 0  to 9  60000 for training \n",
        "(x_train, y_train), (x_test, y_test) = tf.keras.datasets.mnist.load_data()\n",
        "\n",
        "print('X Train Shape is : ' , x_train.shape)\n",
        "print('X Train  is : ' , x_train[5])\n",
        "print('---------------------------------------- ')\n",
        "print('X Test Shape is : ' , x_test.shape)\n",
        "print('X Test  is : ' , x_test[5])\n",
        "print('---------------------------------------- ')\n",
        "print('y Train Shape is : ' , y_train.shape)\n",
        "print('y Train is : ' , y_train[5])\n",
        "print('---------------------------------------- ')\n",
        "print('y Test Shape is : ' , y_test.shape)\n",
        "print('y Test  is : ' , y_test[5])\n",
        "print('---------------------------------------- ')\n",
        "print('All y is : ' , np.unique( y_train ))\n",
        " \n",
        "plt.imshow(x_train[5],cmap='Greys')"
      ],
      "execution_count": 14,
      "outputs": [
        {
          "output_type": "stream",
          "text": [
            "X Train Shape is :  (60000, 28, 28)\n",
            "X Train  is :  [[  0   0   0   0   0   0   0   0   0   0   0   0   0   0   0   0   0   0\n",
            "    0   0   0   0   0   0   0   0   0   0]\n",
            " [  0   0   0   0   0   0   0   0   0   0   0   0   0   0   0   0   0   0\n",
            "    0   0   0   0   0   0   0   0   0   0]\n",
            " [  0   0   0   0   0   0   0   0   0   0   0   0   0   0   0   0   0   0\n",
            "    0   0   0   0   0   0   0   0   0   0]\n",
            " [  0   0   0   0   0   0   0   0   0   0   0   0   0   0   0   0   0   0\n",
            "    0   0   0   0   0   0   0   0   0   0]\n",
            " [  0   0   0   0   0   0   0   0   0   0   0   0   0   0   0   0   0   0\n",
            "    0   0   0   0   0   0   0   0   0   0]\n",
            " [  0   0   0   0   0   0   0   0   0   0   0   0   0   0   0  13  25 100\n",
            "  122   7   0   0   0   0   0   0   0   0]\n",
            " [  0   0   0   0   0   0   0   0   0   0   0   0   0  33 151 208 252 252\n",
            "  252 146   0   0   0   0   0   0   0   0]\n",
            " [  0   0   0   0   0   0   0   0   0   0   0  40 152 244 252 253 224 211\n",
            "  252 232  40   0   0   0   0   0   0   0]\n",
            " [  0   0   0   0   0   0   0   0   0  15 152 239 252 252 252 216  31  37\n",
            "  252 252  60   0   0   0   0   0   0   0]\n",
            " [  0   0   0   0   0   0   0   0   0  96 252 252 252 252 217  29   0  37\n",
            "  252 252  60   0   0   0   0   0   0   0]\n",
            " [  0   0   0   0   0   0   0   0   0 181 252 252 220 167  30   0   0  77\n",
            "  252 252  60   0   0   0   0   0   0   0]\n",
            " [  0   0   0   0   0   0   0   0   0  26 128  58  22   0   0   0   0 100\n",
            "  252 252  60   0   0   0   0   0   0   0]\n",
            " [  0   0   0   0   0   0   0   0   0   0   0   0   0   0   0   0   0 157\n",
            "  252 252  60   0   0   0   0   0   0   0]\n",
            " [  0   0   0   0   0   0   0   0   0   0   0   0   0 110 121 122 121 202\n",
            "  252 194   3   0   0   0   0   0   0   0]\n",
            " [  0   0   0   0   0   0   0   0   0   0  10  53 179 253 253 255 253 253\n",
            "  228  35   0   0   0   0   0   0   0   0]\n",
            " [  0   0   0   0   0   0   0   0   5  54 227 252 243 228 170 242 252 252\n",
            "  231 117   6   0   0   0   0   0   0   0]\n",
            " [  0   0   0   0   0   0   0   6  78 252 252 125  59   0  18 208 252 252\n",
            "  252 252  87   7   0   0   0   0   0   0]\n",
            " [  0   0   0   0   0   0   5 135 252 252 180  16   0  21 203 253 247 129\n",
            "  173 252 252 184  66  49  49   0   0   0]\n",
            " [  0   0   0   0   0   3 136 252 241 106  17   0  53 200 252 216  65   0\n",
            "   14  72 163 241 252 252 223   0   0   0]\n",
            " [  0   0   0   0   0 105 252 242  88  18  73 170 244 252 126  29   0   0\n",
            "    0   0   0  89 180 180  37   0   0   0]\n",
            " [  0   0   0   0   0 231 252 245 205 216 252 252 252 124   3   0   0   0\n",
            "    0   0   0   0   0   0   0   0   0   0]\n",
            " [  0   0   0   0   0 207 252 252 252 252 178 116  36   4   0   0   0   0\n",
            "    0   0   0   0   0   0   0   0   0   0]\n",
            " [  0   0   0   0   0  13  93 143 121  23   6   0   0   0   0   0   0   0\n",
            "    0   0   0   0   0   0   0   0   0   0]\n",
            " [  0   0   0   0   0   0   0   0   0   0   0   0   0   0   0   0   0   0\n",
            "    0   0   0   0   0   0   0   0   0   0]\n",
            " [  0   0   0   0   0   0   0   0   0   0   0   0   0   0   0   0   0   0\n",
            "    0   0   0   0   0   0   0   0   0   0]\n",
            " [  0   0   0   0   0   0   0   0   0   0   0   0   0   0   0   0   0   0\n",
            "    0   0   0   0   0   0   0   0   0   0]\n",
            " [  0   0   0   0   0   0   0   0   0   0   0   0   0   0   0   0   0   0\n",
            "    0   0   0   0   0   0   0   0   0   0]\n",
            " [  0   0   0   0   0   0   0   0   0   0   0   0   0   0   0   0   0   0\n",
            "    0   0   0   0   0   0   0   0   0   0]]\n",
            "---------------------------------------- \n",
            "X Test Shape is :  (10000, 28, 28)\n",
            "X Test  is :  [[  0   0   0   0   0   0   0   0   0   0   0   0   0   0   0   0   0   0\n",
            "    0   0   0   0   0   0   0   0   0   0]\n",
            " [  0   0   0   0   0   0   0   0   0   0   0   0   0   0   0   0   0   0\n",
            "    0   0   0   0   0   0   0   0   0   0]\n",
            " [  0   0   0   0   0   0   0   0   0   0   0   0   0   0   0   0   0   0\n",
            "    0   0   0   0   0   0   0   0   0   0]\n",
            " [  0   0   0   0   0   0   0   0   0   0   0   0   0   0   0   0   0   0\n",
            "    0   0   0   0   0   0   0   0   0   0]\n",
            " [  0   0   0   0   0   0   0   0   0   0   0   0   0   0   0   0   0   0\n",
            "    0   0   0   0   0   0   0   0   0   0]\n",
            " [  0   0   0   0   0   0   0   0   0   0   0   0   0   0   0   0  77 254\n",
            "  107   3   0   0   0   0   0   0   0   0]\n",
            " [  0   0   0   0   0   0   0   0   0   0   0   0   0   0   0  19 227 254\n",
            "  254   9   0   0   0   0   0   0   0   0]\n",
            " [  0   0   0   0   0   0   0   0   0   0   0   0   0   0   0  81 254 254\n",
            "  165   1   0   0   0   0   0   0   0   0]\n",
            " [  0   0   0   0   0   0   0   0   0   0   0   0   0   0   7 203 254 254\n",
            "   73   0   0   0   0   0   0   0   0   0]\n",
            " [  0   0   0   0   0   0   0   0   0   0   0   0   0   0  53 254 254 250\n",
            "    0   0   0   0   0   0   0   0   0   0]\n",
            " [  0   0   0   0   0   0   0   0   0   0   0   0   0   0 134 254 254 180\n",
            "    0   0   0   0   0   0   0   0   0   0]\n",
            " [  0   0   0   0   0   0   0   0   0   0   0   0   0   0 196 254 248  48\n",
            "    0   0   0   0   0   0   0   0   0   0]\n",
            " [  0   0   0   0   0   0   0   0   0   0   0   0   0  58 254 254 237   0\n",
            "    0   0   0   0   0   0   0   0   0   0]\n",
            " [  0   0   0   0   0   0   0   0   0   0   0   0   0 111 254 254 132   0\n",
            "    0   0   0   0   0   0   0   0   0   0]\n",
            " [  0   0   0   0   0   0   0   0   0   0   0   0   0 163 254 238  28   0\n",
            "    0   0   0   0   0   0   0   0   0   0]\n",
            " [  0   0   0   0   0   0   0   0   0   0   0   0  60 252 254 223   0   0\n",
            "    0   0   0   0   0   0   0   0   0   0]\n",
            " [  0   0   0   0   0   0   0   0   0   0   0   0  79 254 254 154   0   0\n",
            "    0   0   0   0   0   0   0   0   0   0]\n",
            " [  0   0   0   0   0   0   0   0   0   0   0   0 163 254 238  53   0   0\n",
            "    0   0   0   0   0   0   0   0   0   0]\n",
            " [  0   0   0   0   0   0   0   0   0   0   0  28 252 254 210   0   0   0\n",
            "    0   0   0   0   0   0   0   0   0   0]\n",
            " [  0   0   0   0   0   0   0   0   0   0   0  86 254 254 131   0   0   0\n",
            "    0   0   0   0   0   0   0   0   0   0]\n",
            " [  0   0   0   0   0   0   0   0   0   0   0 105 254 234  20   0   0   0\n",
            "    0   0   0   0   0   0   0   0   0   0]\n",
            " [  0   0   0   0   0   0   0   0   0   0   0 175 254 204   5   0   0   0\n",
            "    0   0   0   0   0   0   0   0   0   0]\n",
            " [  0   0   0   0   0   0   0   0   0   0   5 211 254 196   0   0   0   0\n",
            "    0   0   0   0   0   0   0   0   0   0]\n",
            " [  0   0   0   0   0   0   0   0   0   0   3 158 254 160   0   0   0   0\n",
            "    0   0   0   0   0   0   0   0   0   0]\n",
            " [  0   0   0   0   0   0   0   0   0   0   0  26 157 107   0   0   0   0\n",
            "    0   0   0   0   0   0   0   0   0   0]\n",
            " [  0   0   0   0   0   0   0   0   0   0   0   0   0   0   0   0   0   0\n",
            "    0   0   0   0   0   0   0   0   0   0]\n",
            " [  0   0   0   0   0   0   0   0   0   0   0   0   0   0   0   0   0   0\n",
            "    0   0   0   0   0   0   0   0   0   0]\n",
            " [  0   0   0   0   0   0   0   0   0   0   0   0   0   0   0   0   0   0\n",
            "    0   0   0   0   0   0   0   0   0   0]]\n",
            "---------------------------------------- \n",
            "y Train Shape is :  (60000,)\n",
            "y Train is :  2\n",
            "---------------------------------------- \n",
            "y Test Shape is :  (10000,)\n",
            "y Test  is :  1\n",
            "---------------------------------------- \n",
            "All y is :  [0 1 2 3 4 5 6 7 8 9]\n"
          ],
          "name": "stdout"
        },
        {
          "output_type": "execute_result",
          "data": {
            "text/plain": [
              "<matplotlib.image.AxesImage at 0x7f8c8e0ce5f8>"
            ]
          },
          "metadata": {
            "tags": []
          },
          "execution_count": 14
        },
        {
          "output_type": "display_data",
          "data": {
            "image/png": "[encoded data removed]",
            "text/plain": [
              "<Figure size 432x288 with 1 Axes>"
            ]
          },
          "metadata": {
            "tags": []
          }
        }
      ]
    },
    {
      "cell_type": "code",
      "metadata": {
        "id": "hCAJ1jynzprA",
        "colab_type": "code",
        "colab": {
          "base_uri": "https://localhost:8080/",
          "height": 1000
        },
        "outputId": "665e91e1-6a11-4263-f839-9a8b374f5937"
      },
      "source": [
        "## anthor way to load mnist dataset  to use batches training \n",
        "from tensorflow.examples.tutorials.mnist import input_data\n",
        "mnist = input_data.read_data_sets(\"MNIST-data\", one_hot=True)\n",
        "\n",
        "print('X Train Shape is : ' , mnist.train.images.shape)\n",
        "print('X Train  is : ' , mnist.train.images[5])\n",
        "print('---------------------------------------- ')\n",
        "print('X Test Shape is : ' , mnist.test.images.shape)\n",
        "print('X Test  is : ' , mnist.test.images[5])\n",
        "print('---------------------------------------- ')\n",
        "print('y Train Shape is : ' , mnist.train.labels.shape)\n",
        "print('y Train is : ' , mnist.train.labels[5])\n",
        "print('---------------------------------------- ')\n",
        "print('y Test Shape is : ' , mnist.test.labels.shape)\n",
        "print('y Test  is : ' , mnist.test.labels[5])\n",
        "print('---------------------------------------- ')"
      ],
      "execution_count": 15,
      "outputs": [
        {
          "output_type": "stream",
          "text": [
            "WARNING:tensorflow:From <ipython-input-15-79857ea8c7e0>:2: read_data_sets (from tensorflow.contrib.learn.python.learn.datasets.mnist) is deprecated and will be removed in a future version.\n",
            "Instructions for updating:\n",
            "Please use alternatives such as official/mnist/dataset.py from tensorflow/models.\n",
            "WARNING:tensorflow:From /usr/local/lib/python3.6/dist-packages/tensorflow_core/contrib/learn/python/learn/datasets/mnist.py:260: maybe_download (from tensorflow.contrib.learn.python.learn.datasets.base) is deprecated and will be removed in a future version.\n",
            "Instructions for updating:\n",
            "Please write your own downloading logic.\n",
            "WARNING:tensorflow:From /usr/local/lib/python3.6/dist-packages/tensorflow_core/contrib/learn/python/learn/datasets/base.py:252: _internal_retry.<locals>.wrap.<locals>.wrapped_fn (from tensorflow.contrib.learn.python.learn.datasets.base) is deprecated and will be removed in a future version.\n",
            "Instructions for updating:\n",
            "Please use urllib or similar directly.\n",
            "Successfully downloaded train-images-idx3-ubyte.gz 9912422 bytes.\n",
            "WARNING:tensorflow:From /usr/local/lib/python3.6/dist-packages/tensorflow_core/contrib/learn/python/learn/datasets/mnist.py:262: extract_images (from tensorflow.contrib.learn.python.learn.datasets.mnist) is deprecated and will be removed in a future version.\n",
            "Instructions for updating:\n",
            "Please use tf.data to implement this functionality.\n",
            "Extracting MNIST-data/train-images-idx3-ubyte.gz\n",
            "Successfully downloaded train-labels-idx1-ubyte.gz 28881 bytes.\n",
            "WARNING:tensorflow:From /usr/local/lib/python3.6/dist-packages/tensorflow_core/contrib/learn/python/learn/datasets/mnist.py:267: extract_labels (from tensorflow.contrib.learn.python.learn.datasets.mnist) is deprecated and will be removed in a future version.\n",
            "Instructions for updating:\n",
            "Please use tf.data to implement this functionality.\n",
            "Extracting MNIST-data/train-labels-idx1-ubyte.gz\n",
            "WARNING:tensorflow:From /usr/local/lib/python3.6/dist-packages/tensorflow_core/contrib/learn/python/learn/datasets/mnist.py:110: dense_to_one_hot (from tensorflow.contrib.learn.python.learn.datasets.mnist) is deprecated and will be removed in a future version.\n",
            "Instructions for updating:\n",
            "Please use tf.one_hot on tensors.\n",
            "Successfully downloaded t10k-images-idx3-ubyte.gz 1648877 bytes.\n",
            "Extracting MNIST-data/t10k-images-idx3-ubyte.gz\n",
            "Successfully downloaded t10k-labels-idx1-ubyte.gz 4542 bytes.\n",
            "Extracting MNIST-data/t10k-labels-idx1-ubyte.gz\n",
            "WARNING:tensorflow:From /usr/local/lib/python3.6/dist-packages/tensorflow_core/contrib/learn/python/learn/datasets/mnist.py:290: DataSet.__init__ (from tensorflow.contrib.learn.python.learn.datasets.mnist) is deprecated and will be removed in a future version.\n",
            "Instructions for updating:\n",
            "Please use alternatives such as official/mnist/dataset.py from tensorflow/models.\n",
            "X Train Shape is :  (55000, 784)\n",
            "X Train  is :  [0.         0.         0.         0.         0.         0.\n",
            " 0.         0.         0.         0.         0.         0.\n",
            " 0.         0.         0.         0.         0.         0.\n",
            " 0.         0.         0.         0.         0.         0.\n",
            " 0.         0.         0.         0.         0.         0.\n",
            " 0.         0.         0.         0.         0.         0.\n",
            " 0.         0.         0.         0.         0.         0.\n",
            " 0.         0.         0.         0.         0.         0.\n",
            " 0.         0.         0.         0.         0.         0.\n",
            " 0.         0.         0.         0.         0.         0.\n",
            " 0.         0.         0.         0.         0.         0.\n",
            " 0.         0.         0.         0.         0.         0.\n",
            " 0.         0.         0.         0.         0.         0.\n",
            " 0.         0.         0.         0.         0.         0.\n",
            " 0.         0.         0.         0.         0.         0.\n",
            " 0.         0.         0.         0.         0.         0.\n",
            " 0.         0.         0.         0.         0.         0.\n",
            " 0.         0.         0.         0.         0.         0.\n",
            " 0.         0.         0.         0.         0.         0.\n",
            " 0.         0.         0.         0.         0.         0.\n",
            " 0.         0.         0.         0.         0.         0.\n",
            " 0.         0.         0.         0.         0.         0.\n",
            " 0.         0.         0.         0.         0.         0.\n",
            " 0.         0.         0.         0.         0.         0.\n",
            " 0.         0.         0.         0.         0.         0.\n",
            " 0.         0.         0.         0.         0.         0.23137257\n",
            " 0.6392157  0.9960785  0.9960785  0.9960785  0.7607844  0.43921572\n",
            " 0.07058824 0.         0.         0.         0.         0.\n",
            " 0.         0.         0.         0.         0.         0.\n",
            " 0.         0.         0.         0.         0.         0.\n",
            " 0.         0.01568628 0.5176471  0.93725497 0.9921569  0.9921569\n",
            " 0.9921569  0.9921569  0.9960785  0.9921569  0.627451   0.\n",
            " 0.         0.         0.         0.         0.         0.\n",
            " 0.         0.         0.         0.         0.         0.\n",
            " 0.         0.         0.         0.         0.         0.5372549\n",
            " 0.9921569  0.9960785  0.9921569  0.9921569  0.9921569  0.75294125\n",
            " 0.9960785  0.9921569  0.8980393  0.0509804  0.         0.\n",
            " 0.         0.         0.         0.         0.         0.\n",
            " 0.         0.         0.         0.         0.         0.\n",
            " 0.         0.01568628 0.5372549  0.9843138  0.9921569  0.9568628\n",
            " 0.50980395 0.19215688 0.07450981 0.01960784 0.6392157  0.9921569\n",
            " 0.8235295  0.03529412 0.         0.         0.         0.\n",
            " 0.         0.         0.         0.         0.         0.\n",
            " 0.         0.         0.         0.         0.         0.37254903\n",
            " 0.9921569  0.9921569  0.8431373  0.1764706  0.         0.\n",
            " 0.         0.         0.6117647  0.9921569  0.68235296 0.\n",
            " 0.         0.         0.         0.         0.         0.\n",
            " 0.         0.         0.         0.         0.         0.\n",
            " 0.         0.         0.         0.8431373  0.9960785  0.8117648\n",
            " 0.09019608 0.         0.         0.         0.03921569 0.3803922\n",
            " 0.85098046 0.9176471  0.         0.         0.         0.\n",
            " 0.         0.         0.         0.         0.         0.\n",
            " 0.         0.         0.         0.         0.         0.\n",
            " 0.         0.83921576 0.9921569  0.2784314  0.         0.\n",
            " 0.00784314 0.19607845 0.8352942  0.9921569  0.9960785  0.7058824\n",
            " 0.         0.         0.         0.         0.         0.\n",
            " 0.         0.         0.         0.         0.         0.\n",
            " 0.         0.         0.         0.         0.         0.83921576\n",
            " 0.9921569  0.19215688 0.         0.         0.19607845 0.9921569\n",
            " 0.9921569  0.9921569  0.7176471  0.04705883 0.         0.\n",
            " 0.         0.         0.         0.         0.         0.\n",
            " 0.         0.         0.         0.         0.         0.\n",
            " 0.         0.         0.         0.7803922  0.9921569  0.95294124\n",
            " 0.7686275  0.62352943 0.95294124 0.9921569  0.9686275  0.5411765\n",
            " 0.03137255 0.         0.         0.         0.         0.\n",
            " 0.         0.         0.         0.         0.         0.\n",
            " 0.         0.         0.         0.         0.         0.\n",
            " 0.         0.16470589 0.9921569  0.9921569  0.9921569  0.9960785\n",
            " 0.9921569  0.9921569  0.39607847 0.         0.         0.\n",
            " 0.         0.         0.         0.         0.         0.\n",
            " 0.         0.         0.         0.         0.         0.\n",
            " 0.         0.         0.         0.         0.23137257 0.58431375\n",
            " 0.9960785  0.9960785  0.9960785  1.         0.9960785  0.6862745\n",
            " 0.         0.         0.         0.         0.         0.\n",
            " 0.         0.         0.         0.         0.         0.\n",
            " 0.         0.         0.         0.         0.         0.\n",
            " 0.13333334 0.75294125 0.9960785  0.9921569  0.9921569  0.9921569\n",
            " 0.7843138  0.53333336 0.89019614 0.9450981  0.27058825 0.\n",
            " 0.         0.         0.         0.         0.         0.\n",
            " 0.         0.         0.         0.         0.         0.\n",
            " 0.         0.         0.         0.33333334 0.9686275  0.9921569\n",
            " 0.9960785  0.9921569  0.77647066 0.48235297 0.07058824 0.\n",
            " 0.19607845 0.9921569  0.8352942  0.         0.         0.\n",
            " 0.         0.         0.         0.         0.         0.\n",
            " 0.         0.         0.         0.         0.         0.\n",
            " 0.2784314  0.9686275  0.9921569  0.9294118  0.75294125 0.2784314\n",
            " 0.02352941 0.         0.         0.         0.00784314 0.5019608\n",
            " 0.9803922  0.21176472 0.         0.         0.         0.\n",
            " 0.         0.         0.         0.         0.         0.\n",
            " 0.         0.         0.         0.         0.46274513 0.9921569\n",
            " 0.8705883  0.14117648 0.         0.         0.         0.\n",
            " 0.         0.         0.03137255 0.7176471  0.9921569  0.227451\n",
            " 0.         0.         0.         0.         0.         0.\n",
            " 0.         0.         0.         0.         0.         0.\n",
            " 0.         0.         0.46274513 0.9960785  0.54509807 0.\n",
            " 0.         0.         0.         0.         0.         0.05490196\n",
            " 0.7294118  0.9960785  0.9960785  0.227451   0.         0.\n",
            " 0.         0.         0.         0.         0.         0.\n",
            " 0.         0.         0.         0.         0.         0.\n",
            " 0.2784314  0.9686275  0.9686275  0.54509807 0.0627451  0.\n",
            " 0.         0.07450981 0.227451   0.87843144 0.9921569  0.9921569\n",
            " 0.8313726  0.03529412 0.         0.         0.         0.\n",
            " 0.         0.         0.         0.         0.         0.\n",
            " 0.         0.         0.         0.         0.         0.42352945\n",
            " 0.9921569  0.9921569  0.92549026 0.6862745  0.6862745  0.9686275\n",
            " 0.9921569  0.9960785  0.9921569  0.77647066 0.16862746 0.\n",
            " 0.         0.         0.         0.         0.         0.\n",
            " 0.         0.         0.         0.         0.         0.\n",
            " 0.         0.         0.         0.2627451  0.8352942  0.8980393\n",
            " 0.9960785  0.9921569  0.9921569  0.9921569  0.9921569  0.83921576\n",
            " 0.48627454 0.02352941 0.         0.         0.         0.\n",
            " 0.         0.         0.         0.         0.         0.\n",
            " 0.         0.         0.         0.         0.         0.\n",
            " 0.         0.         0.         0.09019608 0.60784316 0.60784316\n",
            " 0.8745099  0.7843138  0.46274513 0.         0.         0.\n",
            " 0.         0.         0.         0.         0.         0.\n",
            " 0.         0.         0.         0.         0.         0.\n",
            " 0.         0.         0.         0.         0.         0.\n",
            " 0.         0.         0.         0.         0.         0.\n",
            " 0.         0.         0.         0.         0.         0.\n",
            " 0.         0.         0.         0.         0.         0.\n",
            " 0.         0.         0.         0.         0.         0.\n",
            " 0.         0.         0.         0.         0.         0.\n",
            " 0.         0.         0.         0.         0.         0.\n",
            " 0.         0.         0.         0.         0.         0.\n",
            " 0.         0.         0.         0.         0.         0.\n",
            " 0.         0.         0.         0.         0.         0.\n",
            " 0.         0.         0.         0.         0.         0.\n",
            " 0.         0.         0.         0.         0.         0.\n",
            " 0.         0.         0.         0.         0.         0.\n",
            " 0.         0.         0.         0.        ]\n",
            "---------------------------------------- \n",
            "X Test Shape is :  (10000, 784)\n",
            "X Test  is :  [0.         0.         0.         0.         0.         0.\n",
            " 0.         0.         0.         0.         0.         0.\n",
            " 0.         0.         0.         0.         0.         0.\n",
            " 0.         0.         0.         0.         0.         0.\n",
            " 0.         0.         0.         0.         0.         0.\n",
            " 0.         0.         0.         0.         0.         0.\n",
            " 0.         0.         0.         0.         0.         0.\n",
            " 0.         0.         0.         0.         0.         0.\n",
            " 0.         0.         0.         0.         0.         0.\n",
            " 0.         0.         0.         0.         0.         0.\n",
            " 0.         0.         0.         0.         0.         0.\n",
            " 0.         0.         0.         0.         0.         0.\n",
            " 0.         0.         0.         0.         0.         0.\n",
            " 0.         0.         0.         0.         0.         0.\n",
            " 0.         0.         0.         0.         0.         0.\n",
            " 0.         0.         0.         0.         0.         0.\n",
            " 0.         0.         0.         0.         0.         0.\n",
            " 0.         0.         0.         0.         0.         0.\n",
            " 0.         0.         0.         0.         0.         0.\n",
            " 0.         0.         0.         0.         0.         0.\n",
            " 0.         0.         0.         0.         0.         0.\n",
            " 0.         0.         0.         0.         0.         0.\n",
            " 0.         0.         0.         0.         0.         0.\n",
            " 0.         0.         0.         0.         0.         0.\n",
            " 0.         0.         0.         0.         0.         0.\n",
            " 0.         0.         0.         0.         0.         0.\n",
            " 0.3019608  0.9960785  0.41960788 0.01176471 0.         0.\n",
            " 0.         0.         0.         0.         0.         0.\n",
            " 0.         0.         0.         0.         0.         0.\n",
            " 0.         0.         0.         0.         0.         0.\n",
            " 0.         0.         0.         0.07450981 0.89019614 0.9960785\n",
            " 0.9960785  0.03529412 0.         0.         0.         0.\n",
            " 0.         0.         0.         0.         0.         0.\n",
            " 0.         0.         0.         0.         0.         0.\n",
            " 0.         0.         0.         0.         0.         0.\n",
            " 0.         0.31764707 0.9960785  0.9960785  0.64705884 0.00392157\n",
            " 0.         0.         0.         0.         0.         0.\n",
            " 0.         0.         0.         0.         0.         0.\n",
            " 0.         0.         0.         0.         0.         0.\n",
            " 0.         0.         0.         0.         0.02745098 0.7960785\n",
            " 0.9960785  0.9960785  0.28627452 0.         0.         0.\n",
            " 0.         0.         0.         0.         0.         0.\n",
            " 0.         0.         0.         0.         0.         0.\n",
            " 0.         0.         0.         0.         0.         0.\n",
            " 0.         0.         0.20784315 0.9960785  0.9960785  0.9803922\n",
            " 0.         0.         0.         0.         0.         0.\n",
            " 0.         0.         0.         0.         0.         0.\n",
            " 0.         0.         0.         0.         0.         0.\n",
            " 0.         0.         0.         0.         0.         0.\n",
            " 0.5254902  0.9960785  0.9960785  0.7058824  0.         0.\n",
            " 0.         0.         0.         0.         0.         0.\n",
            " 0.         0.         0.         0.         0.         0.\n",
            " 0.         0.         0.         0.         0.         0.\n",
            " 0.         0.         0.         0.         0.7686275  0.9960785\n",
            " 0.9725491  0.18823531 0.         0.         0.         0.\n",
            " 0.         0.         0.         0.         0.         0.\n",
            " 0.         0.         0.         0.         0.         0.\n",
            " 0.         0.         0.         0.         0.         0.\n",
            " 0.         0.227451   0.9960785  0.9960785  0.9294118  0.\n",
            " 0.         0.         0.         0.         0.         0.\n",
            " 0.         0.         0.         0.         0.         0.\n",
            " 0.         0.         0.         0.         0.         0.\n",
            " 0.         0.         0.         0.         0.         0.43529415\n",
            " 0.9960785  0.9960785  0.5176471  0.         0.         0.\n",
            " 0.         0.         0.         0.         0.         0.\n",
            " 0.         0.         0.         0.         0.         0.\n",
            " 0.         0.         0.         0.         0.         0.\n",
            " 0.         0.         0.         0.6392157  0.9960785  0.9333334\n",
            " 0.10980393 0.         0.         0.         0.         0.\n",
            " 0.         0.         0.         0.         0.         0.\n",
            " 0.         0.         0.         0.         0.         0.\n",
            " 0.         0.         0.         0.         0.         0.\n",
            " 0.23529413 0.98823535 0.9960785  0.8745099  0.         0.\n",
            " 0.         0.         0.         0.         0.         0.\n",
            " 0.         0.         0.         0.         0.         0.\n",
            " 0.         0.         0.         0.         0.         0.\n",
            " 0.         0.         0.         0.         0.30980393 0.9960785\n",
            " 0.9960785  0.6039216  0.         0.         0.         0.\n",
            " 0.         0.         0.         0.         0.         0.\n",
            " 0.         0.         0.         0.         0.         0.\n",
            " 0.         0.         0.         0.         0.         0.\n",
            " 0.         0.         0.6392157  0.9960785  0.9333334  0.20784315\n",
            " 0.         0.         0.         0.         0.         0.\n",
            " 0.         0.         0.         0.         0.         0.\n",
            " 0.         0.         0.         0.         0.         0.\n",
            " 0.         0.         0.         0.         0.         0.10980393\n",
            " 0.98823535 0.9960785  0.8235295  0.         0.         0.\n",
            " 0.         0.         0.         0.         0.         0.\n",
            " 0.         0.         0.         0.         0.         0.\n",
            " 0.         0.         0.         0.         0.         0.\n",
            " 0.         0.         0.         0.3372549  0.9960785  0.9960785\n",
            " 0.5137255  0.         0.         0.         0.         0.\n",
            " 0.         0.         0.         0.         0.         0.\n",
            " 0.         0.         0.         0.         0.         0.\n",
            " 0.         0.         0.         0.         0.         0.\n",
            " 0.         0.41176474 0.9960785  0.9176471  0.07843138 0.\n",
            " 0.         0.         0.         0.         0.         0.\n",
            " 0.         0.         0.         0.         0.         0.\n",
            " 0.         0.         0.         0.         0.         0.\n",
            " 0.         0.         0.         0.         0.         0.6862745\n",
            " 0.9960785  0.8000001  0.01960784 0.         0.         0.\n",
            " 0.         0.         0.         0.         0.         0.\n",
            " 0.         0.         0.         0.         0.         0.\n",
            " 0.         0.         0.         0.         0.         0.\n",
            " 0.         0.         0.01960784 0.82745105 0.9960785  0.7686275\n",
            " 0.         0.         0.         0.         0.         0.\n",
            " 0.         0.         0.         0.         0.         0.\n",
            " 0.         0.         0.         0.         0.         0.\n",
            " 0.         0.         0.         0.         0.         0.\n",
            " 0.01176471 0.61960787 0.9960785  0.627451   0.         0.\n",
            " 0.         0.         0.         0.         0.         0.\n",
            " 0.         0.         0.         0.         0.         0.\n",
            " 0.         0.         0.         0.         0.         0.\n",
            " 0.         0.         0.         0.         0.         0.10196079\n",
            " 0.6156863  0.41960788 0.         0.         0.         0.\n",
            " 0.         0.         0.         0.         0.         0.\n",
            " 0.         0.         0.         0.         0.         0.\n",
            " 0.         0.         0.         0.         0.         0.\n",
            " 0.         0.         0.         0.         0.         0.\n",
            " 0.         0.         0.         0.         0.         0.\n",
            " 0.         0.         0.         0.         0.         0.\n",
            " 0.         0.         0.         0.         0.         0.\n",
            " 0.         0.         0.         0.         0.         0.\n",
            " 0.         0.         0.         0.         0.         0.\n",
            " 0.         0.         0.         0.         0.         0.\n",
            " 0.         0.         0.         0.         0.         0.\n",
            " 0.         0.         0.         0.         0.         0.\n",
            " 0.         0.         0.         0.         0.         0.\n",
            " 0.         0.         0.         0.         0.         0.\n",
            " 0.         0.         0.         0.         0.         0.\n",
            " 0.         0.         0.         0.        ]\n",
            "---------------------------------------- \n",
            "y Train Shape is :  (55000, 10)\n",
            "y Train is :  [0. 0. 0. 0. 0. 0. 0. 0. 1. 0.]\n",
            "---------------------------------------- \n",
            "y Test Shape is :  (10000, 10)\n",
            "y Test  is :  [0. 1. 0. 0. 0. 0. 0. 0. 0. 0.]\n",
            "---------------------------------------- \n"
          ],
          "name": "stdout"
        }
      ]
    },
    {
      "cell_type": "code",
      "metadata": {
        "id": "wGwKrOtozprN",
        "colab_type": "code",
        "colab": {
          "base_uri": "https://localhost:8080/",
          "height": 1000
        },
        "outputId": "9a52ce0c-9a16-4fb7-9e13-fa65f3c04adc"
      },
      "source": [
        "for i in range(10) : \n",
        "    batch = mnist.train.next_batch(5)\n",
        "    print(batch[0])\n",
        "    print(batch[1])\n",
        "    print('----------------------')"
      ],
      "execution_count": 16,
      "outputs": [
        {
          "output_type": "stream",
          "text": [
            "[[0. 0. 0. ... 0. 0. 0.]\n",
            " [0. 0. 0. ... 0. 0. 0.]\n",
            " [0. 0. 0. ... 0. 0. 0.]\n",
            " [0. 0. 0. ... 0. 0. 0.]\n",
            " [0. 0. 0. ... 0. 0. 0.]]\n",
            "[[0. 0. 1. 0. 0. 0. 0. 0. 0. 0.]\n",
            " [0. 1. 0. 0. 0. 0. 0. 0. 0. 0.]\n",
            " [0. 0. 0. 0. 0. 0. 1. 0. 0. 0.]\n",
            " [0. 0. 0. 0. 0. 0. 0. 0. 1. 0.]\n",
            " [0. 0. 1. 0. 0. 0. 0. 0. 0. 0.]]\n",
            "----------------------\n",
            "[[0. 0. 0. ... 0. 0. 0.]\n",
            " [0. 0. 0. ... 0. 0. 0.]\n",
            " [0. 0. 0. ... 0. 0. 0.]\n",
            " [0. 0. 0. ... 0. 0. 0.]\n",
            " [0. 0. 0. ... 0. 0. 0.]]\n",
            "[[0. 0. 0. 0. 0. 0. 0. 1. 0. 0.]\n",
            " [1. 0. 0. 0. 0. 0. 0. 0. 0. 0.]\n",
            " [0. 0. 1. 0. 0. 0. 0. 0. 0. 0.]\n",
            " [0. 0. 0. 1. 0. 0. 0. 0. 0. 0.]\n",
            " [0. 1. 0. 0. 0. 0. 0. 0. 0. 0.]]\n",
            "----------------------\n",
            "[[0. 0. 0. ... 0. 0. 0.]\n",
            " [0. 0. 0. ... 0. 0. 0.]\n",
            " [0. 0. 0. ... 0. 0. 0.]\n",
            " [0. 0. 0. ... 0. 0. 0.]\n",
            " [0. 0. 0. ... 0. 0. 0.]]\n",
            "[[1. 0. 0. 0. 0. 0. 0. 0. 0. 0.]\n",
            " [0. 0. 0. 0. 0. 0. 0. 0. 0. 1.]\n",
            " [0. 0. 1. 0. 0. 0. 0. 0. 0. 0.]\n",
            " [0. 0. 0. 0. 0. 0. 1. 0. 0. 0.]\n",
            " [0. 0. 0. 1. 0. 0. 0. 0. 0. 0.]]\n",
            "----------------------\n",
            "[[0. 0. 0. ... 0. 0. 0.]\n",
            " [0. 0. 0. ... 0. 0. 0.]\n",
            " [0. 0. 0. ... 0. 0. 0.]\n",
            " [0. 0. 0. ... 0. 0. 0.]\n",
            " [0. 0. 0. ... 0. 0. 0.]]\n",
            "[[0. 0. 0. 0. 1. 0. 0. 0. 0. 0.]\n",
            " [0. 0. 0. 0. 0. 0. 0. 1. 0. 0.]\n",
            " [0. 0. 0. 0. 0. 0. 1. 0. 0. 0.]\n",
            " [0. 1. 0. 0. 0. 0. 0. 0. 0. 0.]\n",
            " [0. 0. 0. 0. 0. 0. 0. 0. 1. 0.]]\n",
            "----------------------\n",
            "[[0. 0. 0. ... 0. 0. 0.]\n",
            " [0. 0. 0. ... 0. 0. 0.]\n",
            " [0. 0. 0. ... 0. 0. 0.]\n",
            " [0. 0. 0. ... 0. 0. 0.]\n",
            " [0. 0. 0. ... 0. 0. 0.]]\n",
            "[[0. 0. 0. 0. 0. 0. 0. 0. 0. 1.]\n",
            " [0. 0. 1. 0. 0. 0. 0. 0. 0. 0.]\n",
            " [0. 0. 0. 0. 0. 1. 0. 0. 0. 0.]\n",
            " [0. 0. 0. 0. 0. 1. 0. 0. 0. 0.]\n",
            " [0. 0. 0. 0. 1. 0. 0. 0. 0. 0.]]\n",
            "----------------------\n",
            "[[0. 0. 0. ... 0. 0. 0.]\n",
            " [0. 0. 0. ... 0. 0. 0.]\n",
            " [0. 0. 0. ... 0. 0. 0.]\n",
            " [0. 0. 0. ... 0. 0. 0.]\n",
            " [0. 0. 0. ... 0. 0. 0.]]\n",
            "[[1. 0. 0. 0. 0. 0. 0. 0. 0. 0.]\n",
            " [0. 0. 0. 0. 0. 0. 1. 0. 0. 0.]\n",
            " [0. 0. 0. 0. 0. 0. 0. 0. 0. 1.]\n",
            " [0. 0. 1. 0. 0. 0. 0. 0. 0. 0.]\n",
            " [0. 0. 0. 0. 0. 0. 1. 0. 0. 0.]]\n",
            "----------------------\n",
            "[[0. 0. 0. ... 0. 0. 0.]\n",
            " [0. 0. 0. ... 0. 0. 0.]\n",
            " [0. 0. 0. ... 0. 0. 0.]\n",
            " [0. 0. 0. ... 0. 0. 0.]\n",
            " [0. 0. 0. ... 0. 0. 0.]]\n",
            "[[0. 0. 0. 0. 0. 0. 0. 1. 0. 0.]\n",
            " [0. 0. 0. 0. 0. 0. 1. 0. 0. 0.]\n",
            " [0. 0. 0. 0. 0. 0. 1. 0. 0. 0.]\n",
            " [1. 0. 0. 0. 0. 0. 0. 0. 0. 0.]\n",
            " [0. 0. 0. 0. 0. 0. 0. 0. 0. 1.]]\n",
            "----------------------\n",
            "[[0. 0. 0. ... 0. 0. 0.]\n",
            " [0. 0. 0. ... 0. 0. 0.]\n",
            " [0. 0. 0. ... 0. 0. 0.]\n",
            " [0. 0. 0. ... 0. 0. 0.]\n",
            " [0. 0. 0. ... 0. 0. 0.]]\n",
            "[[0. 1. 0. 0. 0. 0. 0. 0. 0. 0.]\n",
            " [0. 0. 0. 0. 0. 0. 0. 0. 1. 0.]\n",
            " [0. 0. 0. 0. 0. 0. 0. 0. 0. 1.]\n",
            " [0. 0. 0. 1. 0. 0. 0. 0. 0. 0.]\n",
            " [0. 0. 0. 0. 1. 0. 0. 0. 0. 0.]]\n",
            "----------------------\n",
            "[[0. 0. 0. ... 0. 0. 0.]\n",
            " [0. 0. 0. ... 0. 0. 0.]\n",
            " [0. 0. 0. ... 0. 0. 0.]\n",
            " [0. 0. 0. ... 0. 0. 0.]\n",
            " [0. 0. 0. ... 0. 0. 0.]]\n",
            "[[0. 0. 1. 0. 0. 0. 0. 0. 0. 0.]\n",
            " [0. 0. 0. 0. 0. 0. 1. 0. 0. 0.]\n",
            " [0. 1. 0. 0. 0. 0. 0. 0. 0. 0.]\n",
            " [0. 0. 0. 0. 0. 0. 0. 1. 0. 0.]\n",
            " [0. 0. 0. 0. 0. 1. 0. 0. 0. 0.]]\n",
            "----------------------\n",
            "[[0. 0. 0. ... 0. 0. 0.]\n",
            " [0. 0. 0. ... 0. 0. 0.]\n",
            " [0. 0. 0. ... 0. 0. 0.]\n",
            " [0. 0. 0. ... 0. 0. 0.]\n",
            " [0. 0. 0. ... 0. 0. 0.]]\n",
            "[[0. 0. 0. 0. 0. 0. 0. 0. 1. 0.]\n",
            " [0. 0. 0. 0. 0. 0. 0. 1. 0. 0.]\n",
            " [0. 0. 0. 0. 0. 0. 1. 0. 0. 0.]\n",
            " [0. 0. 0. 0. 0. 0. 0. 0. 1. 0.]\n",
            " [0. 0. 0. 0. 0. 0. 0. 0. 0. 1.]]\n",
            "----------------------\n"
          ],
          "name": "stdout"
        }
      ]
    },
    {
      "cell_type": "code",
      "metadata": {
        "id": "w9slDC1GzprV",
        "colab_type": "code",
        "colab": {
          "base_uri": "https://localhost:8080/",
          "height": 1000
        },
        "outputId": "2f705d65-1b62-49a0-89ef-872e54a05012"
      },
      "source": [
        "#70000 images of cloths 0 to 9\n",
        "(x_train, y_train), (x_test, y_test) = tf.keras.datasets.fashion_mnist.load_data()\n",
        "\n",
        "print('X Train Shape is : ' , x_train.shape)\n",
        "print('X Train  is : ' , x_train[5])\n",
        "print('---------------------------------------- ')\n",
        "print('X Test Shape is : ' , x_test.shape)\n",
        "print('X Test  is : ' , x_test[5])\n",
        "print('---------------------------------------- ')\n",
        "print('y Train Shape is : ' , y_train.shape)\n",
        "print('y Train is : ' , y_train[5])\n",
        "print('---------------------------------------- ')\n",
        "print('y Test Shape is : ' , y_test.shape)\n",
        "print('y Test  is : ' , y_test[5])\n",
        "print('---------------------------------------- ')\n",
        "print('All y is : ' , np.unique( y_train ))\n",
        " \n",
        "plt.imshow(x_train[5])"
      ],
      "execution_count": 17,
      "outputs": [
        {
          "output_type": "stream",
          "text": [
            "Downloading data from https://storage.googleapis.com/tensorflow/tf-keras-datasets/train-labels-idx1-ubyte.gz\n",
            "32768/29515 [=================================] - 0s 0us/step\n",
            "Downloading data from https://storage.googleapis.com/tensorflow/tf-keras-datasets/train-images-idx3-ubyte.gz\n",
            "26427392/26421880 [==============================] - 0s 0us/step\n",
            "Downloading data from https://storage.googleapis.com/tensorflow/tf-keras-datasets/t10k-labels-idx1-ubyte.gz\n",
            "8192/5148 [===============================================] - 0s 0us/step\n",
            "Downloading data from https://storage.googleapis.com/tensorflow/tf-keras-datasets/t10k-images-idx3-ubyte.gz\n",
            "4423680/4422102 [==============================] - 0s 0us/step\n",
            "X Train Shape is :  (60000, 28, 28)\n",
            "X Train  is :  [[  0   0   0   0   1   0   0   0   0  22  88 188 172 132 125 141 199 143\n",
            "    9   0   0   0   1   0   0   0   0   0]\n",
            " [  0   0   0   1   0   0  20 131 199 206 196 202 242 255 255 250 222 197\n",
            "  206 188 126  17   0   0   0   0   0   0]\n",
            " [  0   0   0   1   0  35 214 191 183 178 175 168 150 162 159 152 158 179\n",
            "  183 189 195 185  82   0   0   0   0   0]\n",
            " [  0   0   0   0   0 170 190 172 177 176 171 169 162 155 148 154 169 174\n",
            "  175 175 177 183 188  12   0   0   0   0]\n",
            " [  0   0   0   0  25 194 180 178 174 184 187 189 187 184 181 189 200 197\n",
            "  193 190 178 175 194  90   0   0   0   0]\n",
            " [  0   0   0   0  42 218 191 197 208 204 211 209 210 212 211 214 215 213\n",
            "  214 211 211 191 200 158   0   0   0   0]\n",
            " [  0   0   0   0  88 221 215 217 219 211 185 150 118 107  99  88  83  90\n",
            "  135 212 203 207 219 169   0   0   0   0]\n",
            " [  0   0   0   0   0  27 118 162  40   0   0   0  10  19  28  39  47  36\n",
            "    0   0 203 230 220 203   0   0   0   0]\n",
            " [  0   0   0   0 138 136  71  69  54 216 217 203 184 168 163 162 163 178\n",
            "  221 186  38  26   7   0   0   0   0   0]\n",
            " [  0   0   0   0  67 134 154 224 129  66  81 117 129 128 132 137 131 129\n",
            "   86  73 157 151 134 216  18   0   0   0]\n",
            " [  0   0   0   0 203 198 172 183 206 255 255 250 243 240 239 235 238 244\n",
            "  255 238 184 160  86  98   0   0   0   0]\n",
            " [  0   0   0   0 122 188 224 151 105 127  97 100 105 114 117 117 113 103\n",
            "   98 111 142 254 191 255  49   0   0   0]\n",
            " [  0   0   0   0 163 179 200  95 154 198 197 200 200 198 197 198 199 202\n",
            "  200 176  86 206 157 162  10   0   0   0]\n",
            " [  0   0   0   0 197 201 229  71 144 194 181 183 179 182 180 179 180 190\n",
            "  185 197  76 219 185 201  34   0   0   0]\n",
            " [  0   0   0   0 199 193 226  58 154 192 184 187 184 186 184 185 183 192\n",
            "  191 200  56 219 203 207  60   0   0   0]\n",
            " [  0   0   0   0 201 194 224  41 163 190 186 186 184 185 183 185 178 190\n",
            "  194 202  33 211 200 206  73   0   0   0]\n",
            " [  0   0   0   0 201 197 222  17 172 190 186 187 182 186 185 187 180 187\n",
            "  193 202  26 212 202 203  76   0   0   0]\n",
            " [  0   0   0   0 200 197 223   0 177 189 184 185 178 184 183 184 180 183\n",
            "  189 203  35 196 203 203  84   0   0   0]\n",
            " [  0   0   0   0 200 197 223   0 185 187 185 187 180 184 182 183 178 182\n",
            "  183 205  44 159 207 201  85   0   0   0]\n",
            " [  0   0   0   0 187 198 225   0 194 188 184 185 180 183 183 184 181 181\n",
            "  177 206  46 129 211 200  88   0   0   0]\n",
            " [  0   0   0   6 186 200 211   0 199 189 184 184 185 182 183 184 185 182\n",
            "  175 205  50  97 216 197  93   0   0   0]\n",
            " [  0   0   0   5 185 204 184   0 202 188 182 182 183 183 184 182 180 182\n",
            "  174 202  63  59 220 196  94   0   0   0]\n",
            " [  0   0   0   5 184 206 157   0 204 187 187 189 192 190 190 191 190 187\n",
            "  183 202  78  35 222 197  95   0   0   0]\n",
            " [  0   0   0   5 183 208 127   0 197 166 153 149 149 146 148 149 150 151\n",
            "  158 191  90   8 223 195  99   0   0   0]\n",
            " [  0   0   0   6 184 208 114   0 204 173 161 180 176 172 173 173 174 176\n",
            "  162 202 115   0 229 199 105   0   0   0]\n",
            " [  0   0   0   9 178 204 115   0 121 135 114 117 114 114 117 118 119 117\n",
            "  113 147  63   0 225 196 107   0   0   0]\n",
            " [  0   0   0  18 180 206 131   0   0   0   0   0   0   0   0   0   0   0\n",
            "    0   0   0   0 224 197 123   0   0   0]\n",
            " [  0   0   0   0 141 151  76   0   1   1   0   0   0   0   0   0   0   0\n",
            "    0   0   0   0 133 167  73   0   0   0]]\n",
            "---------------------------------------- \n",
            "X Test Shape is :  (10000, 28, 28)\n",
            "X Test  is :  [[  0   0   0   0   0   0   0   0   0   0 192 188 181 189 157 165 188 176\n",
            "  179 181   0   0   0   0   0   0   0   0]\n",
            " [  0   0   0   0   0   0   0   0   0  14 235 213 213 223 225 217 214 204\n",
            "  211 189   0   0   0   0   0   0   0   0]\n",
            " [  0   0   0   0   0   0   0   0   0  22 234 217 211 217 200 203 217 203\n",
            "  179 170   0   0   0   0   0   0   0   0]\n",
            " [  0   0   0   0   0   0   0   0   0 105 252 205 209 219 193 195 212 207\n",
            "  194 204  51   0   0   0   0   0   0   0]\n",
            " [  0   0   0   0   0   0   0   0   0 204 228 184 206 215 221 212 209 199\n",
            "  190 227 105   0   0   0   0   0   0   0]\n",
            " [  0   0   0   0   0   0   0   0   0 244 192 193 212 217 210 216 216 194\n",
            "  175 225 131   0   0   0   0   0   0   0]\n",
            " [  0   0   0   0   0   0   0   0  25 247 170 192 210 211 239 231 219 199\n",
            "  179 217 124   0   0   0   0   0   0   0]\n",
            " [  0   0   0   0   0   0   0   0  49 236 170 193 201 220 187 231 230 206\n",
            "  181 213 116   0   0   0   0   0   0   0]\n",
            " [  0   0   0   0   0   0   0   0  87 232 159 193 200 245   0 207 245 200\n",
            "  176 210 109   0   0   0   0   0   0   0]\n",
            " [  0   0   0   0   0   0   0   0 127 221 170 189 216 225   0 151 254 198\n",
            "  183 209 103   0   0   0   0   0   0   0]\n",
            " [  0   0   0   0   0   0   0   0 163 206 176 185 242 146   0  53 255 201\n",
            "  183 205 100   0   0   0   0   0   0   0]\n",
            " [  0   0   0   0   0   0   0   0 177 197 175 189 247  34   0   0 253 203\n",
            "  180 199  97   0   0   0   0   0   0   0]\n",
            " [  0   0   0   0   0   0   0   0 172 186 174 199 223   0   0   0 234 204\n",
            "  162 199 106   0   0   0   0   0   0   0]\n",
            " [  0   0   0   0   0   0   0   0 154 177 174 211 151   0   0   0 210 202\n",
            "  141 180 108   0   0   0   0   0   0   0]\n",
            " [  0   0   0   0   0   0   0   0 141 171 175 246  70   0   2   0 177 204\n",
            "  121 145 136   0   0   0   0   0   0   0]\n",
            " [  0   0   0   0   0   0   0   0 135 179 191 248  28   0   5   0 134 210\n",
            "  107 142 119   0   0   0   0   0   0   0]\n",
            " [  0   0   0   0   0   0   0   0  90 189 198 211   4   0   3   0  59 244\n",
            "  118 165 123   0   0   0   0   0   0   0]\n",
            " [  0   0   0   0   0   0   0   0   3 187 195 225  70   0   4   0  20 215\n",
            "  116 167 137   0   0   0   0   0   0   0]\n",
            " [  0   0   0   0   0   0   0   0   0 182 199 221 163   0   0   0   0 238\n",
            "  147 179 129   0   0   0   0   0   0   0]\n",
            " [  0   0   0   0   0   0   0   0   0 194 208 213 217   0   0   0   0 246\n",
            "  197 203 138   0   0   0   0   0   0   0]\n",
            " [  0   0   0   0   0   0   0   0   0 135 225 206 201   0   0   0   0 215\n",
            "  215 221 140   0   0   0   0   0   0   0]\n",
            " [  0   0   0   0   0   0   0   0   0  27 219 204 217  34   0   0   0 202\n",
            "  215 224 123   0   0   0   0   0   0   0]\n",
            " [  0   0   0   0   0   0   0   0   0   0 203 214 223  88   0   0   0 196\n",
            "  219 230 130   0   0   0   0   0   0   0]\n",
            " [  0   0   0   0   0   0   0   0   1   0 133 217 217 167   0   0   0 184\n",
            "  221 232 132   0   0   0   0   0   0   0]\n",
            " [  0   0   0   0   0   0   0   0   3   0  59 218 209 195   0   0   0 169\n",
            "  228 214 150   0   0   0   0   0   0   0]\n",
            " [  0   0   0   0   0   0   0   0   1   0   0 191 206 219  47   0   0 155\n",
            "  237 223 133   0   0   0   0   0   0   0]\n",
            " [  0   0   0   0   0   0   0   0   0   0   0 161 238 234 116   0   0 168\n",
            "  246 237 156   0   0   0   0   0   0   0]\n",
            " [  0   0   0   0   0   0   0   0   0   0   0  38 137 132  53   0   0  81\n",
            "  145 129  62   0   0   0   0   0   0   0]]\n",
            "---------------------------------------- \n",
            "y Train Shape is :  (60000,)\n",
            "y Train is :  2\n",
            "---------------------------------------- \n",
            "y Test Shape is :  (10000,)\n",
            "y Test  is :  1\n",
            "---------------------------------------- \n",
            "All y is :  [0 1 2 3 4 5 6 7 8 9]\n"
          ],
          "name": "stdout"
        },
        {
          "output_type": "execute_result",
          "data": {
            "text/plain": [
              "<matplotlib.image.AxesImage at 0x7f8c8e293828>"
            ]
          },
          "metadata": {
            "tags": []
          },
          "execution_count": 17
        },
        {
          "output_type": "display_data",
          "data": {
            "image/png": "[encoded data removed]",
            "text/plain": [
              "<Figure size 432x288 with 1 Axes>"
            ]
          },
          "metadata": {
            "tags": []
          }
        }
      ]
    },
    {
      "cell_type": "code",
      "metadata": {
        "id": "DJzky3fjzprd",
        "colab_type": "code",
        "colab": {
          "base_uri": "https://localhost:8080/",
          "height": 258
        },
        "outputId": "af2b4425-85b8-43fe-f01b-4e01e99c0d17"
      },
      "source": [
        "# 50000 reviews of films \n",
        "(x_train, y_train), (x_test, y_test) = tf.keras.datasets.imdb.load_data()\n",
        "print('X Train Shape is : ' , x_train.shape)\n",
        "print('X Train  is : ' , x_train[5])\n",
        "print('---------------------------------------- ')\n",
        "print('X Test Shape is : ' , x_test.shape)\n",
        "print('X Test  is : ' , x_test[5])\n",
        "print('---------------------------------------- ')\n",
        "print('y Train Shape is : ' , y_train.shape)\n",
        "print('y Train is : ' , y_train[5])\n",
        "print('---------------------------------------- ')\n",
        "print('y Test Shape is : ' , y_test.shape)\n",
        "print('y Test  is : ' , y_test[5])\n",
        "print('---------------------------------------- ')\n",
        "print('All y is : ' , np.unique( y_train ))"
      ],
      "execution_count": 21,
      "outputs": [
        {
          "output_type": "stream",
          "text": [
            "X Train Shape is :  (25000,)\n",
            "X Train  is :  [1, 778, 128, 74, 12, 630, 163, 15, 4, 1766, 7982, 1051, 43222, 32, 85, 156, 45, 40, 148, 139, 121, 664, 665, 10, 10, 1361, 173, 4, 749, 86588, 16, 3804, 8, 4, 226, 65, 12, 43, 127, 24, 15344, 10, 10]\n",
            "---------------------------------------- \n",
            "X Test Shape is :  (25000,)\n",
            "X Test  is :  [1, 146, 427, 5718, 14, 20, 218, 112, 2962, 32, 37, 119, 14, 20, 144, 9493, 910, 5, 8817, 4, 4659, 18, 12, 3403, 853, 28, 8, 2225, 12, 95, 474, 818, 4651, 18, 1462, 13, 124, 285, 5, 1462, 11, 14, 20, 122, 6, 52, 292, 5, 13, 774, 2626, 46, 138, 910, 1481, 276, 14, 20, 23, 288, 42, 23, 1856, 11, 2364, 5687, 33, 222, 13, 774, 110, 101, 4651, 14, 9, 6, 3799, 52, 20, 5, 144, 30, 110, 34, 32, 4, 362, 11, 4, 162, 2248, 92, 79, 8, 67, 12, 5, 13, 104, 36, 144, 12, 144, 33, 222, 30, 276, 145, 23, 4, 1308, 14, 20, 152, 1833, 6, 706, 10134, 12, 1015, 4, 147, 155, 146, 98, 150, 14, 20, 80, 30, 23, 288]\n",
            "---------------------------------------- \n",
            "y Train Shape is :  (25000,)\n",
            "y Train is :  0\n",
            "---------------------------------------- \n",
            "y Test Shape is :  (25000,)\n",
            "y Test  is :  1\n",
            "---------------------------------------- \n",
            "All y is :  [0 1]\n"
          ],
          "name": "stdout"
        }
      ]
    },
    {
      "cell_type": "code",
      "metadata": {
        "id": "D56Z9-PDzprj",
        "colab_type": "code",
        "colab": {
          "base_uri": "https://localhost:8080/",
          "height": 309
        },
        "outputId": "cd5f53bb-e3ac-499d-df58-ceb7911f06ea"
      },
      "source": [
        "#10000 article of 46 type of news\n",
        "(x_train, y_train), (x_test, y_test) = tf.keras.datasets.reuters.load_data()\n",
        "\n",
        "print('X Train Shape is : ' , x_train.shape)\n",
        "print('X Train  is : ' , x_train[5])\n",
        "print('---------------------------------------- ')\n",
        "print('X Test Shape is : ' , x_test.shape)\n",
        "print('X Test  is : ' , x_test[5])\n",
        "print('---------------------------------------- ')\n",
        "print('y Train Shape is : ' , y_train.shape)\n",
        "print('y Train is : ' , y_train[5])\n",
        "print('---------------------------------------- ')\n",
        "print('y Test Shape is : ' , y_test.shape)\n",
        "print('y Test  is : ' , y_test[5])\n",
        "print('---------------------------------------- ')\n",
        "print('All y is : ' , np.unique( y_train ))"
      ],
      "execution_count": 22,
      "outputs": [
        {
          "output_type": "stream",
          "text": [
            "Downloading data from https://storage.googleapis.com/tensorflow/tf-keras-datasets/reuters.npz\n",
            "2113536/2110848 [==============================] - 0s 0us/step\n",
            "X Train Shape is :  (8982,)\n",
            "X Train  is :  [1, 4, 37, 38, 309, 213, 349, 1632, 48, 193, 229, 463, 28, 156, 635, 11, 82, 14, 156, 635, 11, 82, 54, 139, 16, 349, 105, 462, 311, 28, 296, 147, 11, 82, 14, 296, 147, 11, 54, 139, 342, 48, 193, 3234, 361, 122, 23, 1332, 28, 318, 942, 11, 82, 14, 318, 942, 11, 82, 54, 139, 122, 7, 105, 462, 23, 349, 28, 296, 767, 11, 82, 14, 296, 767, 11, 54, 139, 342, 229, 162, 7, 48, 193, 55, 408, 28, 258, 557, 11, 82, 14, 196, 557, 11, 82, 54, 139, 162, 7, 105, 462, 55, 349, 28, 191, 968, 11, 82, 14, 191, 785, 11, 54, 139, 17, 12]\n",
            "---------------------------------------- \n",
            "X Test Shape is :  (2246,)\n",
            "X Test  is :  [1, 53, 134, 26, 14, 102, 26, 39, 5150, 18, 14, 2013, 18, 86, 44, 4121, 18, 14, 44, 4577, 18, 180, 183, 32, 4335, 18, 14, 32, 6118, 18, 29, 53, 1045, 26, 14, 19, 821, 15, 39, 32, 1842, 18, 14, 32, 5821, 18, 86, 284, 32, 11, 14, 284, 12, 11, 180, 183, 32, 3762, 18, 14, 32, 4846, 18, 123, 48, 98, 39, 235, 785, 18, 150, 728, 22, 20021, 5, 205, 131, 291, 17, 12]\n",
            "---------------------------------------- \n",
            "y Train Shape is :  (8982,)\n",
            "y Train is :  4\n",
            "---------------------------------------- \n",
            "y Test Shape is :  (2246,)\n",
            "y Test  is :  3\n",
            "---------------------------------------- \n",
            "All y is :  [ 0  1  2  3  4  5  6  7  8  9 10 11 12 13 14 15 16 17 18 19 20 21 22 23\n",
            " 24 25 26 27 28 29 30 31 32 33 34 35 36 37 38 39 40 41 42 43 44 45]\n"
          ],
          "name": "stdout"
        }
      ]
    },
    {
      "cell_type": "code",
      "metadata": {
        "id": "uThI07tEzprt",
        "colab_type": "code",
        "colab": {}
      },
      "source": [
        ""
      ],
      "execution_count": 0,
      "outputs": []
    }
  ]
}