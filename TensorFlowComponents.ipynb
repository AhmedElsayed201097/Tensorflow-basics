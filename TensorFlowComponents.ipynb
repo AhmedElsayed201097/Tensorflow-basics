{
  "nbformat": 4,
  "nbformat_minor": 0,
  "metadata": {
    "colab": {
      "name": "TensorFlowComponents.ipynb",
      "provenance": [],
      "authorship_tag": "ABX9TyPDfKydWSXpYCZZ2LaK/eBd",
      "include_colab_link": true
    },
    "kernelspec": {
      "name": "python3",
      "display_name": "Python 3"
    }
  },
  "cells": [
    {
      "cell_type": "markdown",
      "metadata": {
        "id": "view-in-github",
        "colab_type": "text"
      },
      "source": [
        "<a href=\"https://colab.research.google.com/github/AhmedElsayed201097/Tensorflow-basics/blob/master/TensorFlowComponents.ipynb\" target=\"_parent\"><img src=\"https://colab.research.google.com/assets/colab-badge.svg\" alt=\"Open In Colab\"/></a>"
      ]
    },
    {
      "cell_type": "code",
      "metadata": {
        "id": "D-4VIoY9LiU6",
        "colab_type": "code",
        "colab": {}
      },
      "source": [
        "\"\"\"\n",
        "tensorflow component \n",
        "1.3.1\t\tSession\n",
        "1.3.2\t\tConstants\n",
        "1.3.3\t\tVariables\n",
        "1.3.4\t\tPlaceholders\n",
        "1.3.5\t\tOperations\n",
        "1.3.6\t\tGraph\n",
        "1.3.7\t\tEager Execution\n",
        "\"\"\""
      ],
      "execution_count": 0,
      "outputs": []
    },
    {
      "cell_type": "code",
      "metadata": {
        "id": "I-6LTaWmL8hm",
        "colab_type": "code",
        "colab": {}
      },
      "source": [
        "# 1.3.1) Session"
      ],
      "execution_count": 0,
      "outputs": []
    },
    {
      "cell_type": "code",
      "metadata": {
        "id": "dJkc05nBMd4u",
        "colab_type": "code",
        "outputId": "7a86fe24-576f-45f1-879f-8b1ef4b8121e",
        "colab": {
          "base_uri": "https://localhost:8080/",
          "height": 63
        }
      },
      "source": [
        "import tensorflow as tf \n",
        "import numpy as np "
      ],
      "execution_count": 0,
      "outputs": [
        {
          "output_type": "display_data",
          "data": {
            "text/html": [
              "<p style=\"color: red;\">\n",
              "The default version of TensorFlow in Colab will soon switch to TensorFlow 2.x.<br>\n",
              "We recommend you <a href=\"https://www.tensorflow.org/guide/migrate\" target=\"_blank\">upgrade</a> now \n",
              "or ensure your notebook will continue to use TensorFlow 1.x via the <code>%tensorflow_version 1.x</code> magic:\n",
              "<a href=\"https://colab.research.google.com/notebooks/tensorflow_version.ipynb\" target=\"_blank\">more info</a>.</p>\n"
            ],
            "text/plain": [
              "<IPython.core.display.HTML object>"
            ]
          },
          "metadata": {
            "tags": []
          }
        }
      ]
    },
    {
      "cell_type": "code",
      "metadata": {
        "id": "xjP4AxSHMCbR",
        "colab_type": "code",
        "colab": {}
      },
      "source": [
        "# first way to use session \n",
        "sess =  tf.Session()   # used to define session \n",
        "sess.run()  # used to run on operation of session \n",
        "sess.close() # used to close session "
      ],
      "execution_count": 0,
      "outputs": []
    },
    {
      "cell_type": "code",
      "metadata": {
        "id": "wqRo8O4pMZvV",
        "colab_type": "code",
        "outputId": "fe7e0988-0cc8-434d-a9bf-19a3e0cab362",
        "colab": {
          "base_uri": "https://localhost:8080/",
          "height": 34
        }
      },
      "source": [
        "# example 1\n",
        "sess =  tf.Session()\n",
        "b = tf.constant(5)\n",
        "print(sess.run(b))\n",
        "\n"
      ],
      "execution_count": 0,
      "outputs": [
        {
          "output_type": "stream",
          "text": [
            "5\n"
          ],
          "name": "stdout"
        }
      ]
    },
    {
      "cell_type": "code",
      "metadata": {
        "id": "hE5h_YMgMusc",
        "colab_type": "code",
        "outputId": "a140e074-64d2-4a33-c0be-ffb49acb6446",
        "colab": {
          "base_uri": "https://localhost:8080/",
          "height": 51
        }
      },
      "source": [
        "# example 2\n",
        "sess= tf.Session()\n",
        "a=tf.constant(12)\n",
        "b=tf.constant(14)\n",
        "print (sess.run(a+4)+12)   #  we can +,-,*,/ to any constatnt \n",
        "print(sess.run(b))"
      ],
      "execution_count": 0,
      "outputs": [
        {
          "output_type": "stream",
          "text": [
            "28\n",
            "14\n"
          ],
          "name": "stdout"
        }
      ]
    },
    {
      "cell_type": "code",
      "metadata": {
        "id": "F3vR8ITRNA2U",
        "colab_type": "code",
        "outputId": "5da9a3e7-a31a-4216-e22c-0a3ca6489213",
        "colab": {
          "base_uri": "https://localhost:8080/",
          "height": 34
        }
      },
      "source": [
        "# the second way of defining session \n",
        "c=tf.constant(45)\n",
        "with tf.Session() as sess:     # using session as block any instruction should be run like c\n",
        "  print(sess.run(c))"
      ],
      "execution_count": 0,
      "outputs": [
        {
          "output_type": "stream",
          "text": [
            "45\n"
          ],
          "name": "stdout"
        }
      ]
    },
    {
      "cell_type": "code",
      "metadata": {
        "id": "-9Hiuro8Nhdi",
        "colab_type": "code",
        "colab": {}
      },
      "source": [
        "#1.3.2) Constant   is something can't be modifyied"
      ],
      "execution_count": 0,
      "outputs": []
    },
    {
      "cell_type": "code",
      "metadata": {
        "id": "AxPGqttvN8-L",
        "colab_type": "code",
        "colab": {}
      },
      "source": [
        "c= tf.constant(value,dtype)      # value can be number (integer ,float),string,list      dtype is the type of constant and its optional\n"
      ],
      "execution_count": 0,
      "outputs": []
    },
    {
      "cell_type": "code",
      "metadata": {
        "id": "BGGdLbaTOVmQ",
        "colab_type": "code",
        "outputId": "f4fc75ce-a63a-4115-970a-7809a76ffb25",
        "colab": {
          "base_uri": "https://localhost:8080/",
          "height": 136
        }
      },
      "source": [
        "#example 1\n",
        "a = tf.constant(3)\n",
        "b = tf.constant(3,tf.float32)    #### defining float \n",
        "c = tf.constant([2,5,6,9,6])\n",
        "d = tf.constant([[2,5,6],\n",
        "                 [8,5,8],\n",
        "                 [8,8,1]])\n",
        "e = tf.constant('I love TensorFlow')\n",
        "with tf.Session() as sess : \n",
        "    print(sess.run(a))\n",
        "    print(sess.run(b))\n",
        "    print(sess.run(c))\n",
        "    print(sess.run(d))\n",
        "    print(sess.run(e))\n",
        "\n",
        "\n"
      ],
      "execution_count": 0,
      "outputs": [
        {
          "output_type": "stream",
          "text": [
            "3\n",
            "3.0\n",
            "[2 5 6 9 6]\n",
            "[[2 5 6]\n",
            " [8 5 8]\n",
            " [8 8 1]]\n",
            "b'I love TensorFlow'\n"
          ],
          "name": "stdout"
        }
      ]
    },
    {
      "cell_type": "code",
      "metadata": {
        "id": "TF0x47TuOuZN",
        "colab_type": "code",
        "colab": {}
      },
      "source": [
        "#1.3.3) Variable   something can be modified,used with something will be changed during code like w,b \n",
        "v=tf.Variable(value,dtype) # to define variable \n",
        "tf.global_variables_initializer()  # must be used before runing any variable"
      ],
      "execution_count": 0,
      "outputs": []
    },
    {
      "cell_type": "code",
      "metadata": {
        "id": "k4hpAMmbPQlX",
        "colab_type": "code",
        "outputId": "ff6c27f6-dc63-46d1-9f18-e566c49c10f2",
        "colab": {
          "base_uri": "https://localhost:8080/",
          "height": 136
        }
      },
      "source": [
        "a = tf.Variable(3)\n",
        "b = tf.Variable(3,tf.float32)\n",
        "c = tf.Variable([2,5,6,9,6])\n",
        "d = tf.Variable([[2,5,6],[8,5,8], [8,8,1]])\n",
        "e = tf.Variable('I love TensorFlow')\n",
        "with tf.Session() as sess :\n",
        "    sess.run(tf.global_variables_initializer())     \n",
        "    print(sess.run(a))\n",
        "    print(sess.run(b))\n",
        "    print(sess.run(c))\n",
        "    print(sess.run(d))\n",
        "    print(sess.run(e))\n"
      ],
      "execution_count": 0,
      "outputs": [
        {
          "output_type": "stream",
          "text": [
            "3\n",
            "3\n",
            "[2 5 6 9 6]\n",
            "[[2 5 6]\n",
            " [8 5 8]\n",
            " [8 8 1]]\n",
            "b'I love TensorFlow'\n"
          ],
          "name": "stdout"
        }
      ]
    },
    {
      "cell_type": "code",
      "metadata": {
        "id": "Pm0SD9lFQApI",
        "colab_type": "code",
        "outputId": "fcc99e9a-fa40-4736-a0a2-6e3591de624f",
        "colab": {
          "base_uri": "https://localhost:8080/",
          "height": 34
        }
      },
      "source": [
        "price = tf.Variable(20) \n",
        "sess = tf.Session()\n",
        "init = tf.global_variables_initializer()\n",
        "sess.run(init)\n",
        "print('original price is : ',sess.run(price))\n"
      ],
      "execution_count": 0,
      "outputs": [
        {
          "output_type": "stream",
          "text": [
            "original price is :  20\n"
          ],
          "name": "stdout"
        }
      ]
    },
    {
      "cell_type": "code",
      "metadata": {
        "id": "dACAuD8FQKdU",
        "colab_type": "code",
        "outputId": "72116e9f-f842-480b-a368-a274a5dfce4f",
        "colab": {
          "base_uri": "https://localhost:8080/",
          "height": 34
        }
      },
      "source": [
        "x=tf.Variable(45)\n",
        "init=tf.global_variables_initializer()\n",
        "s=tf.Session()\n",
        "sess.run(init)\n",
        "print(sess.run(x))"
      ],
      "execution_count": 0,
      "outputs": [
        {
          "output_type": "stream",
          "text": [
            "45\n"
          ],
          "name": "stdout"
        }
      ]
    },
    {
      "cell_type": "code",
      "metadata": {
        "id": "GmfNFB77QfaV",
        "colab_type": "code",
        "colab": {}
      },
      "source": [
        "# to modify variable values you have two ways \n",
        "#first  redefine variable with anthor value"
      ],
      "execution_count": 0,
      "outputs": []
    },
    {
      "cell_type": "code",
      "metadata": {
        "id": "rSnTdFhIQtLd",
        "colab_type": "code",
        "outputId": "9f691439-7e3d-43f4-d463-42de4a688cbf",
        "colab": {
          "base_uri": "https://localhost:8080/",
          "height": 85
        }
      },
      "source": [
        "price = tf.Variable(30) \n",
        "sess.run(tf.global_variables_initializer())\n",
        "print('the price is : ',sess.run(price))\n",
        "\n",
        "price = tf.Variable(40) \n",
        "sess.run(tf.global_variables_initializer())\n",
        "print('the price is : ',sess.run(price))\n",
        "\n",
        "price = tf.Variable(50) \n",
        "sess.run(tf.global_variables_initializer())\n",
        "print('the price is : ',sess.run(price))\n",
        "\n",
        "price = tf.Variable(60) \n",
        "sess.run(tf.global_variables_initializer())\n",
        "print('the price is : ',sess.run(price))\n"
      ],
      "execution_count": 0,
      "outputs": [
        {
          "output_type": "stream",
          "text": [
            "the price is :  30\n",
            "the price is :  40\n",
            "the price is :  50\n",
            "the price is :  60\n"
          ],
          "name": "stdout"
        }
      ]
    },
    {
      "cell_type": "code",
      "metadata": {
        "id": "eGkFydTpQz1L",
        "colab_type": "code",
        "outputId": "15b12d68-3fdc-4ffa-e9d1-091c56d48842",
        "colab": {
          "base_uri": "https://localhost:8080/",
          "height": 34
        }
      },
      "source": [
        "# the second way use : tf.assign(value,newvalue)\n",
        "price = tf.assign(price,50)\n",
        "print('new price is : ',sess.run(price))\n"
      ],
      "execution_count": 0,
      "outputs": [
        {
          "output_type": "stream",
          "text": [
            "new price is :  50\n"
          ],
          "name": "stdout"
        }
      ]
    },
    {
      "cell_type": "code",
      "metadata": {
        "id": "K67Yffk8RC31",
        "colab_type": "code",
        "outputId": "5f257779-3f55-4336-e68b-e2efa96dba58",
        "colab": {
          "base_uri": "https://localhost:8080/",
          "height": 119
        }
      },
      "source": [
        "for j in range(6):\n",
        "  price=tf.assign(price,price+j)\n",
        "  print('new price is : ',sess.run(price))"
      ],
      "execution_count": 0,
      "outputs": [
        {
          "output_type": "stream",
          "text": [
            "new price is :  457\n",
            "new price is :  458\n",
            "new price is :  460\n",
            "new price is :  463\n",
            "new price is :  467\n",
            "new price is :  472\n"
          ],
          "name": "stdout"
        }
      ]
    },
    {
      "cell_type": "code",
      "metadata": {
        "id": "6cWlYo3JRI8d",
        "colab_type": "code",
        "outputId": "9e53dca7-39ab-4778-fab9-9dba088e4a20",
        "colab": {
          "base_uri": "https://localhost:8080/",
          "height": 34
        }
      },
      "source": [
        "#1.3.4) Placeholder  used to hold a memory sapce for something will be initialize in the run    using feed_dict : {placeholder: value }\n",
        "a=tf.placeholder(tf.float32)\n",
        "with tf.Session() as tf :\n",
        "  print(sess.run(a,feed_dict={a:4}))"
      ],
      "execution_count": 0,
      "outputs": [
        {
          "output_type": "stream",
          "text": [
            "4.0\n"
          ],
          "name": "stdout"
        }
      ]
    },
    {
      "cell_type": "code",
      "metadata": {
        "id": "fHnLD1iqSzah",
        "colab_type": "code",
        "outputId": "c839dc89-9af8-4238-a4d7-0478d7c84c85",
        "colab": {
          "base_uri": "https://localhost:8080/",
          "height": 34
        }
      },
      "source": [
        "# we always use it to define vars of the equation   like r=a**2\n",
        "import tensorflow as tf \n",
        "a = tf.placeholder(tf.float32)\n",
        "b = a*2\n",
        "with tf.Session() as sess : \n",
        "    result = sess.run(b , feed_dict ={a:3})\n",
        "    print(result)\n"
      ],
      "execution_count": 0,
      "outputs": [
        {
          "output_type": "stream",
          "text": [
            "6.0\n"
          ],
          "name": "stdout"
        }
      ]
    },
    {
      "cell_type": "code",
      "metadata": {
        "id": "g2XMm2LaTeLg",
        "colab_type": "code",
        "outputId": "e8ce643e-89c7-437e-c3b0-243b75232181",
        "colab": {
          "base_uri": "https://localhost:8080/",
          "height": 34
        }
      },
      "source": [
        "x = tf.placeholder(tf.float32)\n",
        "y = tf.placeholder(tf.float32)\n",
        "z = tf.placeholder(tf.float32)\n",
        "w = tf.placeholder(tf.float32)\n",
        "b = x*2 + 3*y**4 - 4/z + w-9\n",
        "with tf.Session() as sess : \n",
        "    result = sess.run(b , feed_dict ={x:3,y:4,z:8,w:6})\n",
        "    print(result)\n",
        "\n",
        "\n"
      ],
      "execution_count": 0,
      "outputs": [
        {
          "output_type": "stream",
          "text": [
            "770.5\n"
          ],
          "name": "stdout"
        }
      ]
    },
    {
      "cell_type": "code",
      "metadata": {
        "id": "_ez5Zv3EUg4F",
        "colab_type": "code",
        "outputId": "2037d06b-657f-4e6e-e872-430c5eaee31b",
        "colab": {
          "base_uri": "https://localhost:8080/",
          "height": 34
        }
      },
      "source": [
        "# using const with placeholder\n",
        "x = tf.placeholder(tf.float32)\n",
        "y = tf.placeholder(tf.float32)\n",
        "z = tf.constant(8,tf.float32)\n",
        "w = tf.constant(6,tf.float32)\n",
        "\n",
        "b = x*2 + 3*y**4 - 4/z + w-9\n",
        "\n",
        "with tf.Session() as sess :\n",
        "    result = sess.run(b , feed_dict ={x:3.0,y:4.0})\n",
        "    print(result)\n"
      ],
      "execution_count": 0,
      "outputs": [
        {
          "output_type": "stream",
          "text": [
            "770.5\n"
          ],
          "name": "stdout"
        }
      ]
    },
    {
      "cell_type": "code",
      "metadata": {
        "id": "DkH9OfyMVMFT",
        "colab_type": "code",
        "outputId": "e31deb06-f6f8-4d7f-86f2-8640fbbade76",
        "colab": {
          "base_uri": "https://localhost:8080/",
          "height": 34
        }
      },
      "source": [
        "x = tf.placeholder(tf.float32)\n",
        "y = x**2\n",
        "with tf.Session() as sess :\n",
        "    print(sess.run(y,feed_dict={x:5}))\n"
      ],
      "execution_count": 0,
      "outputs": [
        {
          "output_type": "stream",
          "text": [
            "25.0\n"
          ],
          "name": "stdout"
        }
      ]
    },
    {
      "cell_type": "code",
      "metadata": {
        "id": "K94EAou6VV3d",
        "colab_type": "code",
        "outputId": "23dd40ff-4bc8-4e78-b27c-449d940589ae",
        "colab": {
          "base_uri": "https://localhost:8080/",
          "height": 34
        }
      },
      "source": [
        "# placeholder can take list of values     and this what we need in ml and dl as x,y is the data always be a file of data like a list and we send to the equation \n",
        "x=tf.placeholder(tf.float32)\n",
        "a=x**2\n",
        "with tf.Session( ) as sess:\n",
        "  result=sess.run(a,feed_dict={x:[1,2,3,4]})\n",
        "  print(result)"
      ],
      "execution_count": 0,
      "outputs": [
        {
          "output_type": "stream",
          "text": [
            "[ 1.  4.  9. 16.]\n"
          ],
          "name": "stdout"
        }
      ]
    },
    {
      "cell_type": "code",
      "metadata": {
        "id": "ESqiqhJwV0fd",
        "colab_type": "code",
        "outputId": "8a60c009-0b04-44c4-f808-9af6c8816782",
        "colab": {
          "base_uri": "https://localhost:8080/",
          "height": 34
        }
      },
      "source": [
        "#w*x + b\n",
        "\n",
        "w = tf.constant([5.0])\n",
        "b = tf.Variable([7.0],tf.float32)\n",
        "\n",
        "x = tf.placeholder(tf.float32)\n",
        "\n",
        "LinearRegressionModel = w*x + b\n",
        "\n",
        "with tf.Session() as sess :\n",
        "    sess.run(tf.global_variables_initializer())\n",
        "    print(sess.run(LinearRegressionModel,{x:[3,5,7,9]}))\n",
        "\n"
      ],
      "execution_count": 0,
      "outputs": [
        {
          "output_type": "stream",
          "text": [
            "[22. 32. 42. 52.]\n"
          ],
          "name": "stdout"
        }
      ]
    },
    {
      "cell_type": "code",
      "metadata": {
        "id": "oyVJJMdjXFn_",
        "colab_type": "code",
        "colab": {}
      },
      "source": [
        "#1.3.5) Operations\n",
        "tf.add()\n",
        "tf.subtract()\n",
        "tf.multiply()\n",
        "etc ..................."
      ],
      "execution_count": 0,
      "outputs": []
    },
    {
      "cell_type": "code",
      "metadata": {
        "id": "3eQDrfXhXfK1",
        "colab_type": "code",
        "outputId": "c79e07d6-e1fe-4c7d-dd3b-703927e5b4d0",
        "colab": {
          "base_uri": "https://localhost:8080/",
          "height": 34
        }
      },
      "source": [
        "# add to strings\n",
        "s1 = tf.constant('hi ')\n",
        "s2 = tf.constant('people ')\n",
        "s3 = tf.add(s1,s2)\n",
        "\n",
        "sess = tf.Session()\n",
        "print(sess.run(s3))\n"
      ],
      "execution_count": 0,
      "outputs": [
        {
          "output_type": "stream",
          "text": [
            "b'hi people '\n"
          ],
          "name": "stdout"
        }
      ]
    },
    {
      "cell_type": "code",
      "metadata": {
        "id": "794Dije4Xgl2",
        "colab_type": "code",
        "outputId": "0db94efc-1aa3-4ff1-8552-f12dc6de6c69",
        "colab": {
          "base_uri": "https://localhost:8080/",
          "height": 34
        }
      },
      "source": [
        "# add to numbers \n",
        "s1 = tf.constant(20)\n",
        "s2 = tf.constant(30)\n",
        "s3 = tf.add(s1,s2)\n",
        "\n",
        "sess = tf.Session()\n",
        "print(sess.run(s3))\n",
        "\n"
      ],
      "execution_count": 0,
      "outputs": [
        {
          "output_type": "stream",
          "text": [
            "50\n"
          ],
          "name": "stdout"
        }
      ]
    },
    {
      "cell_type": "code",
      "metadata": {
        "id": "r58x5fNqXn97",
        "colab_type": "code",
        "outputId": "038a743c-702e-47f8-a2e1-a8df233587a4",
        "colab": {
          "base_uri": "https://localhost:8080/",
          "height": 34
        }
      },
      "source": [
        "d=tf.constant(12)\n",
        "f=tf.constant(14)\n",
        "s=tf.add(d,f)\n",
        "sess=tf.Session()\n",
        "print(sess.run(s))"
      ],
      "execution_count": 0,
      "outputs": [
        {
          "output_type": "stream",
          "text": [
            "26\n"
          ],
          "name": "stdout"
        }
      ]
    },
    {
      "cell_type": "code",
      "metadata": {
        "id": "ulu2Xxq4XxkH",
        "colab_type": "code",
        "outputId": "dfff0517-8088-43a0-f665-dcf4e1626569",
        "colab": {
          "base_uri": "https://localhost:8080/",
          "height": 34
        }
      },
      "source": [
        "#mul to numbers\n",
        "s1 = tf.constant(20)\n",
        "s2 = tf.constant(30)\n",
        "s3 = tf.multiply(s1,s2)\n",
        "\n",
        "sess = tf.Session()\n",
        "print(sess.run(s3))\n"
      ],
      "execution_count": 0,
      "outputs": [
        {
          "output_type": "stream",
          "text": [
            "600\n"
          ],
          "name": "stdout"
        }
      ]
    },
    {
      "cell_type": "code",
      "metadata": {
        "id": "1s_Qsg1NYCkF",
        "colab_type": "code",
        "outputId": "7e18a3ea-6769-48ea-e76c-395c38f8bf21",
        "colab": {
          "base_uri": "https://localhost:8080/",
          "height": 34
        }
      },
      "source": [
        "# sub to numbers\n",
        "s1 = tf.constant(20)\n",
        "s2 = tf.constant(30)\n",
        "s3 = tf.subtract(s1,s2)\n",
        "\n",
        "sess = tf.Session()\n",
        "print(sess.run(s3))\n"
      ],
      "execution_count": 0,
      "outputs": [
        {
          "output_type": "stream",
          "text": [
            "-10\n"
          ],
          "name": "stdout"
        }
      ]
    },
    {
      "cell_type": "code",
      "metadata": {
        "id": "wosNRegDYDvl",
        "colab_type": "code",
        "outputId": "45c3a168-91b9-4b20-dc54-d6865d9fc159",
        "colab": {
          "base_uri": "https://localhost:8080/",
          "height": 34
        }
      },
      "source": [
        "# div to number\n",
        "s1 = tf.constant(20)\n",
        "s2 = tf.constant(30)\n",
        "s3 = tf.divide(s1,s2)\n",
        "\n",
        "sess = tf.Session()\n",
        "print(sess.run(s3))\n"
      ],
      "execution_count": 0,
      "outputs": [
        {
          "output_type": "stream",
          "text": [
            "0.6666666666666666\n"
          ],
          "name": "stdout"
        }
      ]
    },
    {
      "cell_type": "code",
      "metadata": {
        "id": "TTlztNfBYHj1",
        "colab_type": "code",
        "outputId": "93795432-2835-42fe-b1be-5613f6f8bc6f",
        "colab": {
          "base_uri": "https://localhost:8080/",
          "height": 34
        }
      },
      "source": [
        "#power \n",
        "s1 = tf.constant(20)\n",
        "s2 = tf.constant(3)\n",
        "s3 = tf.pow(s1,s2)\n",
        "\n",
        "sess = tf.Session()\n",
        "print(sess.run(s3))\n"
      ],
      "execution_count": 0,
      "outputs": [
        {
          "output_type": "stream",
          "text": [
            "8000\n"
          ],
          "name": "stdout"
        }
      ]
    },
    {
      "cell_type": "code",
      "metadata": {
        "id": "dPMZwQx6YLEA",
        "colab_type": "code",
        "outputId": "bfef522b-efc9-4246-e024-2b56cf04c434",
        "colab": {
          "base_uri": "https://localhost:8080/",
          "height": 34
        }
      },
      "source": [
        "# add 2 matrixs with the same shape\n",
        "s1 = tf.constant([5,6,7,8])\n",
        "s2 = tf.constant([1,2,3,4])\n",
        "s3 = tf.add(s1,s2)\n",
        "\n",
        "sess = tf.Session()\n",
        "print(sess.run(s3))\n"
      ],
      "execution_count": 0,
      "outputs": [
        {
          "output_type": "stream",
          "text": [
            "[ 6  8 10 12]\n"
          ],
          "name": "stdout"
        }
      ]
    },
    {
      "cell_type": "code",
      "metadata": {
        "id": "BhljmZprYzLc",
        "colab_type": "code",
        "outputId": "173f00c6-00a1-408f-bf03-eb6024ca0893",
        "colab": {
          "base_uri": "https://localhost:8080/",
          "height": 34
        }
      },
      "source": [
        "# matrix mul wit (n*m    *** m* l)\n",
        "matrix1 = tf.constant([[5., 3.]])\n",
        "matrix2 = tf.constant([[2.],\n",
        "                       [2.]])\n",
        "product = tf.matmul(matrix1, matrix2)\n",
        "\n",
        "\n",
        "with tf.Session() as sess:\n",
        "    result = sess.run(product)\n",
        "    print (result)\n",
        "\n"
      ],
      "execution_count": 0,
      "outputs": [
        {
          "output_type": "stream",
          "text": [
            "[[16.]]\n"
          ],
          "name": "stdout"
        }
      ]
    },
    {
      "cell_type": "code",
      "metadata": {
        "id": "_gAv000rY8ZT",
        "colab_type": "code",
        "outputId": "87f9d094-00f8-4d60-c7fd-f485864c9f5f",
        "colab": {
          "base_uri": "https://localhost:8080/",
          "height": 85
        }
      },
      "source": [
        "# transopse of matrix matrix_trancepose\n",
        "matrix1 = tf.constant([[5,6,9,8],\n",
        "                      [1,2,8,9],\n",
        "                      [7,9,5,6],\n",
        "                      [1,2,3,9]])\n",
        "\n",
        "\n",
        "matrix2 = tf.matrix_transpose(matrix1)\n",
        "\n",
        "with tf.Session() as sess:\n",
        "    result = sess.run(matrix2)\n",
        "    print (result)\n"
      ],
      "execution_count": 0,
      "outputs": [
        {
          "output_type": "stream",
          "text": [
            "[[5 1 7 1]\n",
            " [6 2 9 2]\n",
            " [9 8 5 3]\n",
            " [8 9 6 9]]\n"
          ],
          "name": "stdout"
        }
      ]
    },
    {
      "cell_type": "code",
      "metadata": {
        "id": "cj6E183sZJNF",
        "colab_type": "code",
        "outputId": "ac5f8781-7393-4973-87cc-5100fad9993e",
        "colab": {
          "base_uri": "https://localhost:8080/",
          "height": 1000
        }
      },
      "source": [
        "#1.3.6) Graph  is the place we have edges and nodes we can define to use when we need to knoow our operations (constant,var,place),arthimetic operations and so on\n",
        "graph = tf.get_default_graph()   # used to define graph\n",
        "graph.get_operations()      # used to get operation done in the graph"
      ],
      "execution_count": 0,
      "outputs": [
        {
          "output_type": "execute_result",
          "data": {
            "text/plain": [
              "[<tf.Operation 'Const' type=Const>,\n",
              " <tf.Operation 'Const_1' type=Const>,\n",
              " <tf.Operation 'Const_2' type=Const>,\n",
              " <tf.Operation 'Const_3' type=Const>,\n",
              " <tf.Operation 'Const_4' type=Const>,\n",
              " <tf.Operation 'add/y' type=Const>,\n",
              " <tf.Operation 'add' type=AddV2>,\n",
              " <tf.Operation 'Const_5' type=Const>,\n",
              " <tf.Operation 'Const_6' type=Const>,\n",
              " <tf.Operation 'add_1/y' type=Const>,\n",
              " <tf.Operation 'add_1' type=AddV2>,\n",
              " <tf.Operation 'Const_7' type=Const>,\n",
              " <tf.Operation 'Const_8' type=Const>,\n",
              " <tf.Operation 'Const_9' type=Const>,\n",
              " <tf.Operation 'Const_10' type=Const>,\n",
              " <tf.Operation 'Const_11' type=Const>,\n",
              " <tf.Operation 'Const_12' type=Const>,\n",
              " <tf.Operation 'Variable/initial_value' type=Const>,\n",
              " <tf.Operation 'Variable' type=VariableV2>,\n",
              " <tf.Operation 'Variable/Assign' type=Assign>,\n",
              " <tf.Operation 'Variable/read' type=Identity>,\n",
              " <tf.Operation 'Variable_1/initial_value' type=Const>,\n",
              " <tf.Operation 'Variable_1' type=VariableV2>,\n",
              " <tf.Operation 'Variable_1/Assign' type=Assign>,\n",
              " <tf.Operation 'Variable_1/read' type=Identity>,\n",
              " <tf.Operation 'Variable_2/initial_value' type=Const>,\n",
              " <tf.Operation 'Variable_2' type=VariableV2>,\n",
              " <tf.Operation 'Variable_2/Assign' type=Assign>,\n",
              " <tf.Operation 'Variable_2/read' type=Identity>,\n",
              " <tf.Operation 'Variable_3/initial_value' type=Const>,\n",
              " <tf.Operation 'Variable_3' type=VariableV2>,\n",
              " <tf.Operation 'Variable_3/Assign' type=Assign>,\n",
              " <tf.Operation 'Variable_3/read' type=Identity>,\n",
              " <tf.Operation 'Variable_4/initial_value' type=Const>,\n",
              " <tf.Operation 'Variable_4' type=VariableV2>,\n",
              " <tf.Operation 'Variable_4/Assign' type=Assign>,\n",
              " <tf.Operation 'Variable_4/read' type=Identity>,\n",
              " <tf.Operation 'Variable_5/initial_value' type=Const>,\n",
              " <tf.Operation 'Variable_5' type=VariableV2>,\n",
              " <tf.Operation 'Variable_5/Assign' type=Assign>,\n",
              " <tf.Operation 'Variable_5/read' type=Identity>,\n",
              " <tf.Operation 'Variable_6/initial_value' type=Const>,\n",
              " <tf.Operation 'Variable_6' type=VariableV2>,\n",
              " <tf.Operation 'Variable_6/Assign' type=Assign>,\n",
              " <tf.Operation 'Variable_6/read' type=Identity>,\n",
              " <tf.Operation 'Variable_7/initial_value' type=Const>,\n",
              " <tf.Operation 'Variable_7' type=VariableV2>,\n",
              " <tf.Operation 'Variable_7/Assign' type=Assign>,\n",
              " <tf.Operation 'Variable_7/read' type=Identity>,\n",
              " <tf.Operation 'Variable_8/initial_value' type=Const>,\n",
              " <tf.Operation 'Variable_8' type=VariableV2>,\n",
              " <tf.Operation 'Variable_8/Assign' type=Assign>,\n",
              " <tf.Operation 'Variable_8/read' type=Identity>,\n",
              " <tf.Operation 'Variable_9/initial_value' type=Const>,\n",
              " <tf.Operation 'Variable_9' type=VariableV2>,\n",
              " <tf.Operation 'Variable_9/Assign' type=Assign>,\n",
              " <tf.Operation 'Variable_9/read' type=Identity>,\n",
              " <tf.Operation 'init' type=NoOp>,\n",
              " <tf.Operation 'Variable_10/initial_value' type=Const>,\n",
              " <tf.Operation 'Variable_10' type=VariableV2>,\n",
              " <tf.Operation 'Variable_10/Assign' type=Assign>,\n",
              " <tf.Operation 'Variable_10/read' type=Identity>,\n",
              " <tf.Operation 'init_1' type=NoOp>,\n",
              " <tf.Operation 'Variable_11/initial_value' type=Const>,\n",
              " <tf.Operation 'Variable_11' type=VariableV2>,\n",
              " <tf.Operation 'Variable_11/Assign' type=Assign>,\n",
              " <tf.Operation 'Variable_11/read' type=Identity>,\n",
              " <tf.Operation 'init_2' type=NoOp>,\n",
              " <tf.Operation 'Variable_12/initial_value' type=Const>,\n",
              " <tf.Operation 'Variable_12' type=VariableV2>,\n",
              " <tf.Operation 'Variable_12/Assign' type=Assign>,\n",
              " <tf.Operation 'Variable_12/read' type=Identity>,\n",
              " <tf.Operation 'init_3' type=NoOp>,\n",
              " <tf.Operation 'Variable_13/initial_value' type=Const>,\n",
              " <tf.Operation 'Variable_13' type=VariableV2>,\n",
              " <tf.Operation 'Variable_13/Assign' type=Assign>,\n",
              " <tf.Operation 'Variable_13/read' type=Identity>,\n",
              " <tf.Operation 'init_4' type=NoOp>,\n",
              " <tf.Operation 'Variable_14/initial_value' type=Const>,\n",
              " <tf.Operation 'Variable_14' type=VariableV2>,\n",
              " <tf.Operation 'Variable_14/Assign' type=Assign>,\n",
              " <tf.Operation 'Variable_14/read' type=Identity>,\n",
              " <tf.Operation 'init_5' type=NoOp>,\n",
              " <tf.Operation 'Variable_15/initial_value' type=Const>,\n",
              " <tf.Operation 'Variable_15' type=VariableV2>,\n",
              " <tf.Operation 'Variable_15/Assign' type=Assign>,\n",
              " <tf.Operation 'Variable_15/read' type=Identity>,\n",
              " <tf.Operation 'init_6' type=NoOp>,\n",
              " <tf.Operation 'Assign/value' type=Const>,\n",
              " <tf.Operation 'Assign' type=Assign>,\n",
              " <tf.Operation 'Assign_1/value' type=Const>,\n",
              " <tf.Operation 'Assign_1' type=Assign>,\n",
              " <tf.Operation 'add_2/y' type=Const>,\n",
              " <tf.Operation 'add_2' type=AddV2>,\n",
              " <tf.Operation 'Assign_2' type=Assign>,\n",
              " <tf.Operation 'add_3/y' type=Const>,\n",
              " <tf.Operation 'add_3' type=AddV2>,\n",
              " <tf.Operation 'Assign_3' type=Assign>,\n",
              " <tf.Operation 'add_4/y' type=Const>,\n",
              " <tf.Operation 'add_4' type=AddV2>,\n",
              " <tf.Operation 'Assign_4' type=Assign>,\n",
              " <tf.Operation 'add_5/y' type=Const>,\n",
              " <tf.Operation 'add_5' type=AddV2>,\n",
              " <tf.Operation 'Assign_5' type=Assign>,\n",
              " <tf.Operation 'add_6/y' type=Const>,\n",
              " <tf.Operation 'add_6' type=AddV2>,\n",
              " <tf.Operation 'Assign_6' type=Assign>,\n",
              " <tf.Operation 'add_7/y' type=Const>,\n",
              " <tf.Operation 'add_7' type=AddV2>,\n",
              " <tf.Operation 'Assign_7' type=Assign>,\n",
              " <tf.Operation 'Placeholder' type=Placeholder>,\n",
              " <tf.Operation 'Placeholder_1' type=Placeholder>,\n",
              " <tf.Operation 'mul/y' type=Const>,\n",
              " <tf.Operation 'mul' type=Mul>,\n",
              " <tf.Operation 'Placeholder_2' type=Placeholder>,\n",
              " <tf.Operation 'Placeholder_3' type=Placeholder>,\n",
              " <tf.Operation 'Placeholder_4' type=Placeholder>,\n",
              " <tf.Operation 'Placeholder_5' type=Placeholder>,\n",
              " <tf.Operation 'mul_1/y' type=Const>,\n",
              " <tf.Operation 'mul_1' type=Mul>,\n",
              " <tf.Operation 'pow/y' type=Const>,\n",
              " <tf.Operation 'pow' type=Pow>,\n",
              " <tf.Operation 'mul_2/x' type=Const>,\n",
              " <tf.Operation 'mul_2' type=Mul>,\n",
              " <tf.Operation 'add_8' type=AddV2>,\n",
              " <tf.Operation 'truediv/x' type=Const>,\n",
              " <tf.Operation 'truediv' type=RealDiv>,\n",
              " <tf.Operation 'sub' type=Sub>,\n",
              " <tf.Operation 'add_9' type=AddV2>,\n",
              " <tf.Operation 'sub_1/y' type=Const>,\n",
              " <tf.Operation 'sub_1' type=Sub>,\n",
              " <tf.Operation 'Placeholder_6' type=Placeholder>,\n",
              " <tf.Operation 'Placeholder_7' type=Placeholder>,\n",
              " <tf.Operation 'Const_13' type=Const>,\n",
              " <tf.Operation 'Const_14' type=Const>,\n",
              " <tf.Operation 'mul_3/y' type=Const>,\n",
              " <tf.Operation 'mul_3' type=Mul>,\n",
              " <tf.Operation 'pow_1/y' type=Const>,\n",
              " <tf.Operation 'pow_1' type=Pow>,\n",
              " <tf.Operation 'mul_4/x' type=Const>,\n",
              " <tf.Operation 'mul_4' type=Mul>,\n",
              " <tf.Operation 'add_10' type=AddV2>,\n",
              " <tf.Operation 'truediv_1/x' type=Const>,\n",
              " <tf.Operation 'truediv_1' type=RealDiv>,\n",
              " <tf.Operation 'sub_2' type=Sub>,\n",
              " <tf.Operation 'add_11' type=AddV2>,\n",
              " <tf.Operation 'sub_3/y' type=Const>,\n",
              " <tf.Operation 'sub_3' type=Sub>,\n",
              " <tf.Operation 'Placeholder_8' type=Placeholder>,\n",
              " <tf.Operation 'pow_2/y' type=Const>,\n",
              " <tf.Operation 'pow_2' type=Pow>,\n",
              " <tf.Operation 'Placeholder_9' type=Placeholder>,\n",
              " <tf.Operation 'pow_3/y' type=Const>,\n",
              " <tf.Operation 'pow_3' type=Pow>,\n",
              " <tf.Operation 'Const_15' type=Const>,\n",
              " <tf.Operation 'Variable_16/initial_value' type=Const>,\n",
              " <tf.Operation 'Variable_16' type=VariableV2>,\n",
              " <tf.Operation 'Variable_16/Assign' type=Assign>,\n",
              " <tf.Operation 'Variable_16/read' type=Identity>,\n",
              " <tf.Operation 'Placeholder_10' type=Placeholder>,\n",
              " <tf.Operation 'mul_5' type=Mul>,\n",
              " <tf.Operation 'add_12' type=AddV2>,\n",
              " <tf.Operation 'init_7' type=NoOp>,\n",
              " <tf.Operation 'Const_16' type=Const>,\n",
              " <tf.Operation 'Const_17' type=Const>,\n",
              " <tf.Operation 'Add_13' type=Add>,\n",
              " <tf.Operation 'Const_18' type=Const>,\n",
              " <tf.Operation 'Const_19' type=Const>,\n",
              " <tf.Operation 'Add_14' type=Add>,\n",
              " <tf.Operation 'Const_20' type=Const>,\n",
              " <tf.Operation 'Const_21' type=Const>,\n",
              " <tf.Operation 'Const_22' type=Const>,\n",
              " <tf.Operation 'Const_23' type=Const>,\n",
              " <tf.Operation 'Add_15' type=Add>,\n",
              " <tf.Operation 'Const_24' type=Const>,\n",
              " <tf.Operation 'Const_25' type=Const>,\n",
              " <tf.Operation 'Add_16' type=Add>,\n",
              " <tf.Operation 'Const_26' type=Const>,\n",
              " <tf.Operation 'Const_27' type=Const>,\n",
              " <tf.Operation 'Mul_6' type=Mul>,\n",
              " <tf.Operation 'Const_28' type=Const>,\n",
              " <tf.Operation 'Const_29' type=Const>,\n",
              " <tf.Operation 'Sub_4' type=Sub>,\n",
              " <tf.Operation 'Const_30' type=Const>,\n",
              " <tf.Operation 'Const_31' type=Const>,\n",
              " <tf.Operation 'truediv_2/Cast' type=Cast>,\n",
              " <tf.Operation 'truediv_2/Cast_1' type=Cast>,\n",
              " <tf.Operation 'truediv_2' type=RealDiv>,\n",
              " <tf.Operation 'Const_32' type=Const>,\n",
              " <tf.Operation 'Const_33' type=Const>,\n",
              " <tf.Operation 'Pow_4' type=Pow>,\n",
              " <tf.Operation 'Const_34' type=Const>,\n",
              " <tf.Operation 'Const_35' type=Const>,\n",
              " <tf.Operation 'Add_17' type=Add>,\n",
              " <tf.Operation 'Const_36' type=Const>,\n",
              " <tf.Operation 'Const_37' type=Const>,\n",
              " <tf.Operation 'MatMul' type=MatMul>,\n",
              " <tf.Operation 'Const_38' type=Const>,\n",
              " <tf.Operation 'matrix_transpose/transpose/perm' type=Const>,\n",
              " <tf.Operation 'matrix_transpose/transpose' type=Transpose>]"
            ]
          },
          "metadata": {
            "tags": []
          },
          "execution_count": 42
        }
      ]
    },
    {
      "cell_type": "code",
      "metadata": {
        "id": "0PLxcclDaCgp",
        "colab_type": "code",
        "outputId": "8f12b5d7-4087-4c15-bef1-16471f82e8f3",
        "colab": {
          "base_uri": "https://localhost:8080/",
          "height": 425
        }
      },
      "source": [
        "\n",
        "a= tf.constant(5)\n",
        "graph.get_operations()\n",
        "c= tf.add(a,b)\n",
        "graph.get_operations()\n",
        "d= tf.placeholder(tf.float32)\n",
        "graph.get_operations()\n",
        "e= tf.Variable(2)\n",
        "graph.get_operations\n",
        "\n"
      ],
      "execution_count": 0,
      "outputs": [
        {
          "output_type": "error",
          "ename": "TypeError",
          "evalue": "ignored",
          "traceback": [
            "\u001b[0;31m---------------------------------------------------------------------------\u001b[0m",
            "\u001b[0;31mValueError\u001b[0m                                Traceback (most recent call last)",
            "\u001b[0;32m/usr/local/lib/python3.6/dist-packages/tensorflow_core/python/framework/op_def_library.py\u001b[0m in \u001b[0;36m_apply_op_helper\u001b[0;34m(self, op_type_name, name, **keywords)\u001b[0m\n\u001b[1;32m    527\u001b[0m                 \u001b[0mas_ref\u001b[0m\u001b[0;34m=\u001b[0m\u001b[0minput_arg\u001b[0m\u001b[0;34m.\u001b[0m\u001b[0mis_ref\u001b[0m\u001b[0;34m,\u001b[0m\u001b[0;34m\u001b[0m\u001b[0;34m\u001b[0m\u001b[0m\n\u001b[0;32m--> 528\u001b[0;31m                 preferred_dtype=default_dtype)\n\u001b[0m\u001b[1;32m    529\u001b[0m           \u001b[0;32mexcept\u001b[0m \u001b[0mTypeError\u001b[0m \u001b[0;32mas\u001b[0m \u001b[0merr\u001b[0m\u001b[0;34m:\u001b[0m\u001b[0;34m\u001b[0m\u001b[0;34m\u001b[0m\u001b[0m\n",
            "\u001b[0;32m/usr/local/lib/python3.6/dist-packages/tensorflow_core/python/framework/ops.py\u001b[0m in \u001b[0;36minternal_convert_to_tensor\u001b[0;34m(value, dtype, name, as_ref, preferred_dtype, ctx, accepted_result_types)\u001b[0m\n\u001b[1;32m   1296\u001b[0m     \u001b[0;32mif\u001b[0m \u001b[0mret\u001b[0m \u001b[0;32mis\u001b[0m \u001b[0;32mNone\u001b[0m\u001b[0;34m:\u001b[0m\u001b[0;34m\u001b[0m\u001b[0;34m\u001b[0m\u001b[0m\n\u001b[0;32m-> 1297\u001b[0;31m       \u001b[0mret\u001b[0m \u001b[0;34m=\u001b[0m \u001b[0mconversion_func\u001b[0m\u001b[0;34m(\u001b[0m\u001b[0mvalue\u001b[0m\u001b[0;34m,\u001b[0m \u001b[0mdtype\u001b[0m\u001b[0;34m=\u001b[0m\u001b[0mdtype\u001b[0m\u001b[0;34m,\u001b[0m \u001b[0mname\u001b[0m\u001b[0;34m=\u001b[0m\u001b[0mname\u001b[0m\u001b[0;34m,\u001b[0m \u001b[0mas_ref\u001b[0m\u001b[0;34m=\u001b[0m\u001b[0mas_ref\u001b[0m\u001b[0;34m)\u001b[0m\u001b[0;34m\u001b[0m\u001b[0;34m\u001b[0m\u001b[0m\n\u001b[0m\u001b[1;32m   1298\u001b[0m \u001b[0;34m\u001b[0m\u001b[0m\n",
            "\u001b[0;32m/usr/local/lib/python3.6/dist-packages/tensorflow_core/python/ops/variables.py\u001b[0m in \u001b[0;36m_TensorConversionFunction\u001b[0;34m(v, dtype, name, as_ref)\u001b[0m\n\u001b[1;32m   2531\u001b[0m           \u001b[0;34m\"Incompatible type conversion requested to type '%s' for variable \"\u001b[0m\u001b[0;34m\u001b[0m\u001b[0;34m\u001b[0m\u001b[0m\n\u001b[0;32m-> 2532\u001b[0;31m           \"of type '%s'\" % (dtype.name, v.dtype.name))\n\u001b[0m\u001b[1;32m   2533\u001b[0m     \u001b[0;32mif\u001b[0m \u001b[0mas_ref\u001b[0m\u001b[0;34m:\u001b[0m\u001b[0;34m\u001b[0m\u001b[0;34m\u001b[0m\u001b[0m\n",
            "\u001b[0;31mValueError\u001b[0m: Incompatible type conversion requested to type 'int32' for variable of type 'float32_ref'",
            "\nDuring handling of the above exception, another exception occurred:\n",
            "\u001b[0;31mTypeError\u001b[0m                                 Traceback (most recent call last)",
            "\u001b[0;32m<ipython-input-43-6fc25ebed4f0>\u001b[0m in \u001b[0;36m<module>\u001b[0;34m()\u001b[0m\n\u001b[1;32m      2\u001b[0m \u001b[0ma\u001b[0m\u001b[0;34m=\u001b[0m \u001b[0mtf\u001b[0m\u001b[0;34m.\u001b[0m\u001b[0mconstant\u001b[0m\u001b[0;34m(\u001b[0m\u001b[0;36m5\u001b[0m\u001b[0;34m)\u001b[0m\u001b[0;34m\u001b[0m\u001b[0;34m\u001b[0m\u001b[0m\n\u001b[1;32m      3\u001b[0m \u001b[0mgraph\u001b[0m\u001b[0;34m.\u001b[0m\u001b[0mget_operations\u001b[0m\u001b[0;34m(\u001b[0m\u001b[0;34m)\u001b[0m\u001b[0;34m\u001b[0m\u001b[0;34m\u001b[0m\u001b[0m\n\u001b[0;32m----> 4\u001b[0;31m \u001b[0mc\u001b[0m\u001b[0;34m=\u001b[0m \u001b[0mtf\u001b[0m\u001b[0;34m.\u001b[0m\u001b[0madd\u001b[0m\u001b[0;34m(\u001b[0m\u001b[0ma\u001b[0m\u001b[0;34m,\u001b[0m\u001b[0mb\u001b[0m\u001b[0;34m)\u001b[0m\u001b[0;34m\u001b[0m\u001b[0;34m\u001b[0m\u001b[0m\n\u001b[0m\u001b[1;32m      5\u001b[0m \u001b[0mgraph\u001b[0m\u001b[0;34m.\u001b[0m\u001b[0mget_operations\u001b[0m\u001b[0;34m(\u001b[0m\u001b[0;34m)\u001b[0m\u001b[0;34m\u001b[0m\u001b[0;34m\u001b[0m\u001b[0m\n\u001b[1;32m      6\u001b[0m \u001b[0md\u001b[0m\u001b[0;34m=\u001b[0m \u001b[0mtf\u001b[0m\u001b[0;34m.\u001b[0m\u001b[0mplaceholder\u001b[0m\u001b[0;34m(\u001b[0m\u001b[0mtf\u001b[0m\u001b[0;34m.\u001b[0m\u001b[0mfloat32\u001b[0m\u001b[0;34m)\u001b[0m\u001b[0;34m\u001b[0m\u001b[0;34m\u001b[0m\u001b[0m\n",
            "\u001b[0;32m/usr/local/lib/python3.6/dist-packages/tensorflow_core/python/ops/gen_math_ops.py\u001b[0m in \u001b[0;36madd\u001b[0;34m(x, y, name)\u001b[0m\n\u001b[1;32m    393\u001b[0m   \u001b[0;32mtry\u001b[0m\u001b[0;34m:\u001b[0m\u001b[0;34m\u001b[0m\u001b[0;34m\u001b[0m\u001b[0m\n\u001b[1;32m    394\u001b[0m     _, _, _op = _op_def_lib._apply_op_helper(\n\u001b[0;32m--> 395\u001b[0;31m         \"Add\", x=x, y=y, name=name)\n\u001b[0m\u001b[1;32m    396\u001b[0m   \u001b[0;32mexcept\u001b[0m \u001b[0;34m(\u001b[0m\u001b[0mTypeError\u001b[0m\u001b[0;34m,\u001b[0m \u001b[0mValueError\u001b[0m\u001b[0;34m)\u001b[0m\u001b[0;34m:\u001b[0m\u001b[0;34m\u001b[0m\u001b[0;34m\u001b[0m\u001b[0m\n\u001b[1;32m    397\u001b[0m     result = _dispatch.dispatch(\n",
            "\u001b[0;32m/usr/local/lib/python3.6/dist-packages/tensorflow_core/python/framework/op_def_library.py\u001b[0m in \u001b[0;36m_apply_op_helper\u001b[0;34m(self, op_type_name, name, **keywords)\u001b[0m\n\u001b[1;32m    562\u001b[0m                   \u001b[0;34m\"%s type %s of argument '%s'.\"\u001b[0m \u001b[0;34m%\u001b[0m\u001b[0;34m\u001b[0m\u001b[0;34m\u001b[0m\u001b[0m\n\u001b[1;32m    563\u001b[0m                   (prefix, dtypes.as_dtype(attrs[input_arg.type_attr]).name,\n\u001b[0;32m--> 564\u001b[0;31m                    inferred_from[input_arg.type_attr]))\n\u001b[0m\u001b[1;32m    565\u001b[0m \u001b[0;34m\u001b[0m\u001b[0m\n\u001b[1;32m    566\u001b[0m           \u001b[0mtypes\u001b[0m \u001b[0;34m=\u001b[0m \u001b[0;34m[\u001b[0m\u001b[0mvalues\u001b[0m\u001b[0;34m.\u001b[0m\u001b[0mdtype\u001b[0m\u001b[0;34m]\u001b[0m\u001b[0;34m\u001b[0m\u001b[0;34m\u001b[0m\u001b[0m\n",
            "\u001b[0;31mTypeError\u001b[0m: Input 'y' of 'Add' Op has type float32 that does not match type int32 of argument 'x'."
          ]
        }
      ]
    },
    {
      "cell_type": "code",
      "metadata": {
        "id": "R5c4uoT5aYw3",
        "colab_type": "code",
        "outputId": "e2d7ba8b-b2a7-459a-af3c-1ebfb3bb3bf2",
        "colab": {
          "base_uri": "https://localhost:8080/",
          "height": 1000
        }
      },
      "source": [
        "\n",
        "for operation in graph.get_operations() :\n",
        "    print(operation.name)\n"
      ],
      "execution_count": 0,
      "outputs": [
        {
          "output_type": "stream",
          "text": [
            "Const\n",
            "Const_1\n",
            "Const_2\n",
            "Const_3\n",
            "Const_4\n",
            "add/y\n",
            "add\n",
            "Const_5\n",
            "Const_6\n",
            "add_1/y\n",
            "add_1\n",
            "Const_7\n",
            "Const_8\n",
            "Const_9\n",
            "Const_10\n",
            "Const_11\n",
            "Const_12\n",
            "Variable/initial_value\n",
            "Variable\n",
            "Variable/Assign\n",
            "Variable/read\n",
            "Variable_1/initial_value\n",
            "Variable_1\n",
            "Variable_1/Assign\n",
            "Variable_1/read\n",
            "Variable_2/initial_value\n",
            "Variable_2\n",
            "Variable_2/Assign\n",
            "Variable_2/read\n",
            "Variable_3/initial_value\n",
            "Variable_3\n",
            "Variable_3/Assign\n",
            "Variable_3/read\n",
            "Variable_4/initial_value\n",
            "Variable_4\n",
            "Variable_4/Assign\n",
            "Variable_4/read\n",
            "Variable_5/initial_value\n",
            "Variable_5\n",
            "Variable_5/Assign\n",
            "Variable_5/read\n",
            "Variable_6/initial_value\n",
            "Variable_6\n",
            "Variable_6/Assign\n",
            "Variable_6/read\n",
            "Variable_7/initial_value\n",
            "Variable_7\n",
            "Variable_7/Assign\n",
            "Variable_7/read\n",
            "Variable_8/initial_value\n",
            "Variable_8\n",
            "Variable_8/Assign\n",
            "Variable_8/read\n",
            "Variable_9/initial_value\n",
            "Variable_9\n",
            "Variable_9/Assign\n",
            "Variable_9/read\n",
            "init\n",
            "Variable_10/initial_value\n",
            "Variable_10\n",
            "Variable_10/Assign\n",
            "Variable_10/read\n",
            "init_1\n",
            "Variable_11/initial_value\n",
            "Variable_11\n",
            "Variable_11/Assign\n",
            "Variable_11/read\n",
            "init_2\n",
            "Variable_12/initial_value\n",
            "Variable_12\n",
            "Variable_12/Assign\n",
            "Variable_12/read\n",
            "init_3\n",
            "Variable_13/initial_value\n",
            "Variable_13\n",
            "Variable_13/Assign\n",
            "Variable_13/read\n",
            "init_4\n",
            "Variable_14/initial_value\n",
            "Variable_14\n",
            "Variable_14/Assign\n",
            "Variable_14/read\n",
            "init_5\n",
            "Variable_15/initial_value\n",
            "Variable_15\n",
            "Variable_15/Assign\n",
            "Variable_15/read\n",
            "init_6\n",
            "Assign/value\n",
            "Assign\n",
            "Assign_1/value\n",
            "Assign_1\n",
            "add_2/y\n",
            "add_2\n",
            "Assign_2\n",
            "add_3/y\n",
            "add_3\n",
            "Assign_3\n",
            "add_4/y\n",
            "add_4\n",
            "Assign_4\n",
            "add_5/y\n",
            "add_5\n",
            "Assign_5\n",
            "add_6/y\n",
            "add_6\n",
            "Assign_6\n",
            "add_7/y\n",
            "add_7\n",
            "Assign_7\n",
            "Placeholder\n",
            "Placeholder_1\n",
            "mul/y\n",
            "mul\n",
            "Placeholder_2\n",
            "Placeholder_3\n",
            "Placeholder_4\n",
            "Placeholder_5\n",
            "mul_1/y\n",
            "mul_1\n",
            "pow/y\n",
            "pow\n",
            "mul_2/x\n",
            "mul_2\n",
            "add_8\n",
            "truediv/x\n",
            "truediv\n",
            "sub\n",
            "add_9\n",
            "sub_1/y\n",
            "sub_1\n",
            "Placeholder_6\n",
            "Placeholder_7\n",
            "Const_13\n",
            "Const_14\n",
            "mul_3/y\n",
            "mul_3\n",
            "pow_1/y\n",
            "pow_1\n",
            "mul_4/x\n",
            "mul_4\n",
            "add_10\n",
            "truediv_1/x\n",
            "truediv_1\n",
            "sub_2\n",
            "add_11\n",
            "sub_3/y\n",
            "sub_3\n",
            "Placeholder_8\n",
            "pow_2/y\n",
            "pow_2\n",
            "Placeholder_9\n",
            "pow_3/y\n",
            "pow_3\n",
            "Const_15\n",
            "Variable_16/initial_value\n",
            "Variable_16\n",
            "Variable_16/Assign\n",
            "Variable_16/read\n",
            "Placeholder_10\n",
            "mul_5\n",
            "add_12\n",
            "init_7\n",
            "Const_16\n",
            "Const_17\n",
            "Add_13\n",
            "Const_18\n",
            "Const_19\n",
            "Add_14\n",
            "Const_20\n",
            "Const_21\n",
            "Const_22\n",
            "Const_23\n",
            "Add_15\n",
            "Const_24\n",
            "Const_25\n",
            "Add_16\n",
            "Const_26\n",
            "Const_27\n",
            "Mul_6\n",
            "Const_28\n",
            "Const_29\n",
            "Sub_4\n",
            "Const_30\n",
            "Const_31\n",
            "truediv_2/Cast\n",
            "truediv_2/Cast_1\n",
            "truediv_2\n",
            "Const_32\n",
            "Const_33\n",
            "Pow_4\n",
            "Const_34\n",
            "Const_35\n",
            "Add_17\n",
            "Const_36\n",
            "Const_37\n",
            "MatMul\n",
            "Const_38\n",
            "matrix_transpose/transpose/perm\n",
            "matrix_transpose/transpose\n",
            "Const_39\n"
          ],
          "name": "stdout"
        }
      ]
    },
    {
      "cell_type": "code",
      "metadata": {
        "id": "PfNnIz41abE7",
        "colab_type": "code",
        "outputId": "df479ea7-ec11-4b9c-f4f9-5bd9fc69f43c",
        "colab": {
          "base_uri": "https://localhost:8080/",
          "height": 343
        }
      },
      "source": [
        "# 1.3.7) Eager Execution  is used to stop session thinking we can use tensorflow without any session \n",
        "import tensorflow as tf\n",
        "tf.enable_eager_execution()      ### must be used in new notebook\n"
      ],
      "execution_count": 46,
      "outputs": [
        {
          "output_type": "error",
          "ename": "ValueError",
          "evalue": "ignored",
          "traceback": [
            "\u001b[0;31m---------------------------------------------------------------------------\u001b[0m",
            "\u001b[0;31mValueError\u001b[0m                                Traceback (most recent call last)",
            "\u001b[0;32m<ipython-input-46-2f19147a4fbd>\u001b[0m in \u001b[0;36m<module>\u001b[0;34m()\u001b[0m\n\u001b[1;32m      1\u001b[0m \u001b[0;32mimport\u001b[0m \u001b[0mtensorflow\u001b[0m \u001b[0;32mas\u001b[0m \u001b[0mtf\u001b[0m\u001b[0;34m\u001b[0m\u001b[0;34m\u001b[0m\u001b[0m\n\u001b[0;32m----> 2\u001b[0;31m \u001b[0mtf\u001b[0m\u001b[0;34m.\u001b[0m\u001b[0menable_eager_execution\u001b[0m\u001b[0;34m(\u001b[0m\u001b[0;34m)\u001b[0m\u001b[0;34m\u001b[0m\u001b[0;34m\u001b[0m\u001b[0m\n\u001b[0m",
            "\u001b[0;32m/usr/local/lib/python3.6/dist-packages/tensorflow_core/python/framework/ops.py\u001b[0m in \u001b[0;36menable_eager_execution\u001b[0;34m(config, device_policy, execution_mode)\u001b[0m\n\u001b[1;32m   5717\u001b[0m         \u001b[0mdevice_policy\u001b[0m\u001b[0;34m=\u001b[0m\u001b[0mdevice_policy\u001b[0m\u001b[0;34m,\u001b[0m\u001b[0;34m\u001b[0m\u001b[0;34m\u001b[0m\u001b[0m\n\u001b[1;32m   5718\u001b[0m         \u001b[0mexecution_mode\u001b[0m\u001b[0;34m=\u001b[0m\u001b[0mexecution_mode\u001b[0m\u001b[0;34m,\u001b[0m\u001b[0;34m\u001b[0m\u001b[0;34m\u001b[0m\u001b[0m\n\u001b[0;32m-> 5719\u001b[0;31m         server_def=None)\n\u001b[0m\u001b[1;32m   5720\u001b[0m \u001b[0;34m\u001b[0m\u001b[0m\n\u001b[1;32m   5721\u001b[0m \u001b[0;34m\u001b[0m\u001b[0m\n",
            "\u001b[0;32m/usr/local/lib/python3.6/dist-packages/tensorflow_core/python/framework/ops.py\u001b[0m in \u001b[0;36menable_eager_execution_internal\u001b[0;34m(config, device_policy, execution_mode, server_def)\u001b[0m\n\u001b[1;32m   5776\u001b[0m     \u001b[0;32mif\u001b[0m \u001b[0mgraph_mode_has_been_used\u001b[0m\u001b[0;34m:\u001b[0m\u001b[0;34m\u001b[0m\u001b[0;34m\u001b[0m\u001b[0m\n\u001b[1;32m   5777\u001b[0m       raise ValueError(\n\u001b[0;32m-> 5778\u001b[0;31m           \"tf.enable_eager_execution must be called at program startup.\")\n\u001b[0m\u001b[1;32m   5779\u001b[0m   \u001b[0mcontext\u001b[0m\u001b[0;34m.\u001b[0m\u001b[0mdefault_execution_mode\u001b[0m \u001b[0;34m=\u001b[0m \u001b[0mcontext\u001b[0m\u001b[0;34m.\u001b[0m\u001b[0mEAGER_MODE\u001b[0m\u001b[0;34m\u001b[0m\u001b[0;34m\u001b[0m\u001b[0m\n\u001b[1;32m   5780\u001b[0m   \u001b[0;31m# pylint: disable=protected-access\u001b[0m\u001b[0;34m\u001b[0m\u001b[0;34m\u001b[0m\u001b[0;34m\u001b[0m\u001b[0m\n",
            "\u001b[0;31mValueError\u001b[0m: tf.enable_eager_execution must be called at program startup."
          ]
        }
      ]
    },
    {
      "cell_type": "code",
      "metadata": {
        "id": "VhvVQYr7asuo",
        "colab_type": "code",
        "colab": {}
      },
      "source": [
        ""
      ],
      "execution_count": 0,
      "outputs": []
    }
  ]
}