{
  "nbformat": 4,
  "nbformat_minor": 0,
  "metadata": {
    "colab": {
      "name": "bestFitLine_using_tf.ipynb",
      "provenance": [],
      "authorship_tag": "ABX9TyN2LeKRMv2Ol08p/CDdupop",
      "include_colab_link": true
    },
    "kernelspec": {
      "name": "python3",
      "display_name": "Python 3"
    }
  },
  "cells": [
    {
      "cell_type": "markdown",
      "metadata": {
        "id": "view-in-github",
        "colab_type": "text"
      },
      "source": [
        "<a href=\"https://colab.research.google.com/github/AhmedElsayed201097/Tensorflow-basics/blob/master/bestFitLine_using_tf.ipynb\" target=\"_parent\"><img src=\"https://colab.research.google.com/assets/colab-badge.svg\" alt=\"Open In Colab\"/></a>"
      ]
    },
    {
      "cell_type": "code",
      "metadata": {
        "id": "3UQJPV-aRxX4",
        "colab_type": "code",
        "colab": {
          "base_uri": "https://localhost:8080/",
          "height": 68
        },
        "outputId": "49d80bd1-d607-4bda-e5c3-92da1cbad72d"
      },
      "source": [
        "##  some examples of GDO "
      ],
      "execution_count": 8,
      "outputs": [
        {
          "output_type": "stream",
          "text": [
            "[ 7. 12. 17. 22. 27. 32.]\n",
            "2299.0\n",
            "[array([-1.9999967], dtype=float32), array([8.999988], dtype=float32)]\n"
          ],
          "name": "stdout"
        }
      ]
    },
    {
      "cell_type": "code",
      "metadata": {
        "id": "wGc-hkYOSjWl",
        "colab_type": "code",
        "colab": {}
      },
      "source": [
        "import tensorflow as tf\n",
        "import matplotlib.pyplot as plt"
      ],
      "execution_count": 0,
      "outputs": []
    },
    {
      "cell_type": "code",
      "metadata": {
        "id": "ael5R2A5SmHq",
        "colab_type": "code",
        "colab": {
          "base_uri": "https://localhost:8080/",
          "height": 282
        },
        "outputId": "b4b87e8e-3166-4fa4-b357-4967f689b437"
      },
      "source": [
        "#best fit line of w*x+b\n",
        "X = [0,1,2,3,4,5]\n",
        "y = [9,7,5,3,1,-1]\n",
        "plt.scatter(X,y)"
      ],
      "execution_count": 4,
      "outputs": [
        {
          "output_type": "execute_result",
          "data": {
            "text/plain": [
              "<matplotlib.collections.PathCollection at 0x7f6e7bc026a0>"
            ]
          },
          "metadata": {
            "tags": []
          },
          "execution_count": 4
        },
        {
          "output_type": "display_data",
          "data": {
            "image/png": "[encoded data removed]",
            "text/plain": [
              "<Figure size 432x288 with 1 Axes>"
            ]
          },
          "metadata": {
            "tags": []
          }
        }
      ]
    },
    {
      "cell_type": "code",
      "metadata": {
        "id": "faqgNnhTS1nv",
        "colab_type": "code",
        "colab": {
          "base_uri": "https://localhost:8080/",
          "height": 34
        },
        "outputId": "18ffd15b-10f1-446d-dcb0-5e17d7f43ef5"
      },
      "source": [
        "# step 1 \n",
        "w=tf.Variable([5.0],tf.float32)\n",
        "b=tf.Variable([0.7],tf.float32)\n",
        "x = tf.placeholder(tf.float32)\n",
        "y = tf.placeholder(tf.float32)\n",
        "#step 2\n",
        "#equation\n",
        "equation=w*x +b\n",
        "#cost \n",
        "diff=tf.square(equation-y)\n",
        "cost=tf.reduce_sum(diff)\n",
        "# object\n",
        "model =tf.train.GradientDescentOptimizer(0.01).minimize(cost)\n",
        "with tf.Session() as sess:\n",
        "  sess.run(tf.global_variables_initializer())\n",
        "  for i in range(1000):\n",
        "    sess.run(model , {x:[0,1,2,3,4,5] , y:[9,7,5,3,1,-1]})\n",
        "  print(sess.run([w,b]))\n"
      ],
      "execution_count": 7,
      "outputs": [
        {
          "output_type": "stream",
          "text": [
            "[array([-1.9999967], dtype=float32), array([8.999988], dtype=float32)]\n"
          ],
          "name": "stdout"
        }
      ]
    },
    {
      "cell_type": "code",
      "metadata": {
        "id": "lzrK13e-UzfN",
        "colab_type": "code",
        "colab": {}
      },
      "source": [
        ""
      ],
      "execution_count": 0,
      "outputs": []
    },
    {
      "cell_type": "code",
      "metadata": {
        "id": "EVsQ6mogUTjM",
        "colab_type": "code",
        "colab": {}
      },
      "source": [
        ""
      ],
      "execution_count": 0,
      "outputs": []
    }
  ]
}