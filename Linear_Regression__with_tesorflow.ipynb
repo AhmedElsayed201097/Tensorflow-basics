{
  "nbformat": 4,
  "nbformat_minor": 0,
  "metadata": {
    "colab": {
      "name": "Linear Regression _with_tesorflow.ipynb",
      "provenance": [],
      "authorship_tag": "ABX9TyNHLlGNbIeQyheSBIDFgG22",
      "include_colab_link": true
    },
    "kernelspec": {
      "name": "python3",
      "display_name": "Python 3"
    }
  },
  "cells": [
    {
      "cell_type": "markdown",
      "metadata": {
        "id": "view-in-github",
        "colab_type": "text"
      },
      "source": [
        "<a href=\"https://colab.research.google.com/github/AhmedElsayed201097/Tensorflow-basics/blob/master/Linear_Regression__with_tesorflow.ipynb\" target=\"_parent\"><img src=\"https://colab.research.google.com/assets/colab-badge.svg\" alt=\"Open In Colab\"/></a>"
      ]
    },
    {
      "cell_type": "code",
      "metadata": {
        "id": "qgNEaQV3WJgK",
        "colab_type": "code",
        "colab": {
          "base_uri": "https://localhost:8080/",
          "height": 279
        },
        "outputId": "895b1d03-d56c-4735-b189-e3c9053532e9"
      },
      "source": [
        "import numpy as np \n",
        "import tensorflow as tf \n",
        "import matplotlib.pyplot as plt\n",
        "%matplotlib inline\n",
        "\n",
        "np.random.seed(101) \n",
        "tf.set_random_seed(101)\n",
        "\n",
        "# Genrating random linear data \n",
        "# There will be 50 data points ranging from 0 to 50 \n",
        "x = np.linspace(0, 50, 50) \n",
        "y = np.linspace(0, 50, 50) \n",
        "plt.scatter(x,y)\n",
        "plt.xlabel('X')\n",
        "plt.ylabel('Y')\n",
        "plt.show()\n",
        "\n"
      ],
      "execution_count": 12,
      "outputs": [
        {
          "output_type": "display_data",
          "data": {
            "image/png": "[encoded data removed]",
            "text/plain": [
              "<Figure size 432x288 with 1 Axes>"
            ]
          },
          "metadata": {
            "tags": []
          }
        }
      ]
    },
    {
      "cell_type": "code",
      "metadata": {
        "id": "lgprIt9zWlSq",
        "colab_type": "code",
        "colab": {}
      },
      "source": [
        "# Adding noise to the random linear data \n",
        "x += np.random.uniform(-4, 4, 50) \n",
        "y += np.random.uniform(-4, 4, 50) \n",
        "n = len(x) # Number of data points"
      ],
      "execution_count": 0,
      "outputs": []
    },
    {
      "cell_type": "code",
      "metadata": {
        "id": "MIhnFoArW70D",
        "colab_type": "code",
        "colab": {
          "base_uri": "https://localhost:8080/",
          "height": 295
        },
        "outputId": "d9414979-c24a-4096-9dc9-e8df4fc0a193"
      },
      "source": [
        "# Plot of Training Data \n",
        "plt.scatter(x, y) \n",
        "plt.xlabel('x') \n",
        "plt.ylabel('y') \n",
        "plt.title(\"Training Data\") \n",
        "plt.show()\n"
      ],
      "execution_count": 14,
      "outputs": [
        {
          "output_type": "display_data",
          "data": {
            "image/png": "[encoded data removed]",
            "text/plain": [
              "<Figure size 432x288 with 1 Axes>"
            ]
          },
          "metadata": {
            "tags": []
          }
        }
      ]
    },
    {
      "cell_type": "code",
      "metadata": {
        "id": "G7pxul-lXMoi",
        "colab_type": "code",
        "colab": {
          "base_uri": "https://localhost:8080/",
          "height": 357
        },
        "outputId": "9a4bfa91-b6b1-464c-d997-e7eb5be64aaf"
      },
      "source": [
        "# step init variables \n",
        "X = tf.placeholder(\"float\") \n",
        "Y = tf.placeholder(\"float\") \n",
        "#parametrers\n",
        "W = tf.Variable(np.random.randn()) \n",
        "b = tf.Variable(np.random.randn())\n",
        "#hyperparameters \n",
        "learning_rate = 0.01\n",
        "training_epochs = 1000\n",
        "# step 2 Equation\n",
        "# Hypothesis \n",
        "y_pred = tf.add(tf.multiply(X, W), b)\n",
        "# Mean Squared Error Cost Function \n",
        "cost = tf.reduce_sum(tf.pow(y_pred-Y, 2)) / (2 * n)\n",
        "#step  3 GDO object\n",
        "# Gradient Descent Optimizer \n",
        "optimizer = tf.train.GradientDescentOptimizer(learning_rate).minimize(cost)\n",
        "# step 4 training model \n",
        "# Starting the Tensorflow Session \n",
        "with tf.Session() as sess: \n",
        "\t\n",
        "\t# Initializing the Variables \n",
        "\tsess.run(tf.global_variables_initializer()) \n",
        "\t\n",
        "\t# Iterating through all the epochs \n",
        "\n",
        "  #### Stchostic GDO as we update w,b after each x,y \n",
        "\tfor epoch in range(training_epochs): \n",
        "\t\t\n",
        "\t\t# Feeding each data point into the optimizer using Feed Dictionary \n",
        "\t\tfor (_x, _y) in zip(x, y): \n",
        "\t\t\tsess.run(optimizer, feed_dict = {X : _x, Y : _y}) \n",
        "\t\t\n",
        "\t\t# Displaying the result after every 50 epochs \n",
        "\t\tif (epoch + 1) % 50 == 0: \n",
        "\t\t\t# Calculating the cost a every epoch \n",
        "\t\t\tc = sess.run(cost, feed_dict = {X : x, Y : y}) \n",
        "\t\t\tprint(\"Epoch\", (epoch + 1), \": cost =\", c, \"W =\", sess.run(W), \"b =\", sess.run(b)) \n",
        "\t# Storing necessary values to be used outside the Session \n",
        "\ttraining_cost = sess.run(cost, feed_dict ={X: x, Y: y}) \n",
        "\tweight = sess.run(W) \n",
        "\tbias = sess.run(b)\n",
        "\n",
        "\n",
        "\n"
      ],
      "execution_count": 15,
      "outputs": [
        {
          "output_type": "stream",
          "text": [
            "Epoch 50 : cost = 5.886804 W = 0.9951241 b = 1.2381054\n",
            "Epoch 100 : cost = 5.7912707 W = 0.99812365 b = 1.0914398\n",
            "Epoch 150 : cost = 5.7119684 W = 1.0008028 b = 0.96044314\n",
            "Epoch 200 : cost = 5.6459413 W = 1.0031956 b = 0.8434396\n",
            "Epoch 250 : cost = 5.5907993 W = 1.0053328 b = 0.73893565\n",
            "Epoch 300 : cost = 5.544605 W = 1.0072418 b = 0.6455924\n",
            "Epoch 350 : cost = 5.5057893 W = 1.008947 b = 0.56222016\n",
            "Epoch 400 : cost = 5.473066 W = 1.01047 b = 0.48775372\n",
            "Epoch 450 : cost = 5.445385 W = 1.0118302 b = 0.42124188\n",
            "Epoch 500 : cost = 5.4219036 W = 1.0130452 b = 0.36183503\n",
            "Epoch 550 : cost = 5.4019217 W = 1.0141305 b = 0.3087744\n",
            "Epoch 600 : cost = 5.3848577 W = 1.0150996 b = 0.26138142\n",
            "Epoch 650 : cost = 5.370246 W = 1.0159653 b = 0.21905117\n",
            "Epoch 700 : cost = 5.3576994 W = 1.0167387 b = 0.18124233\n",
            "Epoch 750 : cost = 5.346891 W = 1.0174292 b = 0.14747268\n",
            "Epoch 800 : cost = 5.337558 W = 1.0180461 b = 0.11730959\n",
            "Epoch 850 : cost = 5.3294754 W = 1.0185971 b = 0.09036876\n",
            "Epoch 900 : cost = 5.322459 W = 1.0190892 b = 0.06630599\n",
            "Epoch 950 : cost = 5.3163586 W = 1.0195289 b = 0.044813465\n",
            "Epoch 1000 : cost = 5.3110337 W = 1.0199214 b = 0.02561676\n"
          ],
          "name": "stdout"
        }
      ]
    },
    {
      "cell_type": "code",
      "metadata": {
        "id": "axuegmhkYiPX",
        "colab_type": "code",
        "colab": {
          "base_uri": "https://localhost:8080/",
          "height": 51
        },
        "outputId": "d3392990-3e51-49cb-bc16-04724106cacf"
      },
      "source": [
        "# Calculating the predictions \n",
        "predictions = weight * x + bias \n",
        "print(\"Training cost =\", training_cost, \"Weight =\", weight, \"bias =\", bias, '\\n')\n"
      ],
      "execution_count": 16,
      "outputs": [
        {
          "output_type": "stream",
          "text": [
            "Training cost = 5.3110337 Weight = 1.0199214 bias = 0.02561676 \n",
            "\n"
          ],
          "name": "stdout"
        }
      ]
    },
    {
      "cell_type": "code",
      "metadata": {
        "id": "kak2Br6XZFyc",
        "colab_type": "code",
        "colab": {
          "base_uri": "https://localhost:8080/",
          "height": 281
        },
        "outputId": "e693a55d-05f2-42cd-9777-115c5ac45d09"
      },
      "source": [
        "# Plotting the Results \n",
        "plt.plot(x, y, 'ro', label ='Original data') \n",
        "plt.plot(x, predictions, label ='Fitted line') \n",
        "plt.title('Linear Regression Result') \n",
        "plt.legend() \n",
        "plt.show()\n"
      ],
      "execution_count": 17,
      "outputs": [
        {
          "output_type": "display_data",
          "data": {
            "image/png": "[encoded data removed]",
            "text/plain": [
              "<Figure size 432x288 with 1 Axes>"
            ]
          },
          "metadata": {
            "tags": []
          }
        }
      ]
    },
    {
      "cell_type": "code",
      "metadata": {
        "id": "ErkyWS7qZNP_",
        "colab_type": "code",
        "colab": {}
      },
      "source": [
        ""
      ],
      "execution_count": 0,
      "outputs": []
    }
  ]
}