{
  "nbformat": 4,
  "nbformat_minor": 0,
  "metadata": {
    "colab": {
      "name": "eager_excution.ipynb",
      "provenance": [],
      "authorship_tag": "ABX9TyN2WhcsQUFn2HbIgNUZyJkI",
      "include_colab_link": true
    },
    "kernelspec": {
      "name": "python3",
      "display_name": "Python 3"
    }
  },
  "cells": [
    {
      "cell_type": "markdown",
      "metadata": {
        "id": "view-in-github",
        "colab_type": "text"
      },
      "source": [
        "<a href=\"https://colab.research.google.com/github/AhmedElsayed201097/Tensorflow-basics/blob/master/eager_excution.ipynb\" target=\"_parent\"><img src=\"https://colab.research.google.com/assets/colab-badge.svg\" alt=\"Open In Colab\"/></a>"
      ]
    },
    {
      "cell_type": "code",
      "metadata": {
        "id": "c2LmRN4Ta-Kd",
        "colab_type": "code",
        "colab": {
          "base_uri": "https://localhost:8080/",
          "height": 63
        },
        "outputId": "5463fdd0-897e-4e2f-fcda-ab1d939496f7"
      },
      "source": [
        "# 1.3.7) Eager Execution  is used to stop session thinking we can use tensorflow without any session \n",
        "import tensorflow as tf\n",
        "tf.enable_eager_execution()\n"
      ],
      "execution_count": 1,
      "outputs": [
        {
          "output_type": "display_data",
          "data": {
            "text/html": [
              "<p style=\"color: red;\">\n",
              "The default version of TensorFlow in Colab will soon switch to TensorFlow 2.x.<br>\n",
              "We recommend you <a href=\"https://www.tensorflow.org/guide/migrate\" target=\"_blank\">upgrade</a> now \n",
              "or ensure your notebook will continue to use TensorFlow 1.x via the <code>%tensorflow_version 1.x</code> magic:\n",
              "<a href=\"https://colab.research.google.com/notebooks/tensorflow_version.ipynb\" target=\"_blank\">more info</a>.</p>\n"
            ],
            "text/plain": [
              "<IPython.core.display.HTML object>"
            ]
          },
          "metadata": {
            "tags": []
          }
        }
      ]
    },
    {
      "cell_type": "code",
      "metadata": {
        "id": "D2pUnO0ya_N0",
        "colab_type": "code",
        "colab": {
          "base_uri": "https://localhost:8080/",
          "height": 102
        },
        "outputId": "d609e46d-895e-428d-94df-cd2b8e9f5f09"
      },
      "source": [
        "print(tf.add(1, 2))\n",
        "print(tf.add([1, 2], [3, 4]))\n",
        "print(tf.square(5))\n",
        "print(tf.reduce_sum([1, 2, 3]))\n",
        "print(tf.encode_base64(\"hello world\"))\n"
      ],
      "execution_count": 2,
      "outputs": [
        {
          "output_type": "stream",
          "text": [
            "tf.Tensor(3, shape=(), dtype=int32)\n",
            "tf.Tensor([4 6], shape=(2,), dtype=int32)\n",
            "tf.Tensor(25, shape=(), dtype=int32)\n",
            "tf.Tensor(6, shape=(), dtype=int32)\n",
            "tf.Tensor(b'aGVsbG8gd29ybGQ', shape=(), dtype=string)\n"
          ],
          "name": "stdout"
        }
      ]
    },
    {
      "cell_type": "code",
      "metadata": {
        "id": "yUatja3HbO4X",
        "colab_type": "code",
        "colab": {
          "base_uri": "https://localhost:8080/",
          "height": 34
        },
        "outputId": "238faadb-b52d-4eac-d355-ae88f9729c00"
      },
      "source": [
        "\n",
        "print(tf.square(2) + tf.square(3))\n"
      ],
      "execution_count": 3,
      "outputs": [
        {
          "output_type": "stream",
          "text": [
            "tf.Tensor(13, shape=(), dtype=int32)\n"
          ],
          "name": "stdout"
        }
      ]
    },
    {
      "cell_type": "code",
      "metadata": {
        "id": "C33gxywrbUal",
        "colab_type": "code",
        "colab": {
          "base_uri": "https://localhost:8080/",
          "height": 68
        },
        "outputId": "f9134f50-031c-449b-fcbd-e190bbd4b51b"
      },
      "source": [
        "# Define constant tensors\n",
        "print(\"Define constant tensors\")\n",
        "a = tf.constant(2)\n",
        "print(\"a = %i\" % a)\n",
        "b = tf.constant(3)\n",
        "print(\"b = %i\" % b)\n"
      ],
      "execution_count": 4,
      "outputs": [
        {
          "output_type": "stream",
          "text": [
            "Define constant tensors\n",
            "a = 2\n",
            "b = 3\n"
          ],
          "name": "stdout"
        }
      ]
    },
    {
      "cell_type": "code",
      "metadata": {
        "id": "gP3vVBEvbpkK",
        "colab_type": "code",
        "colab": {
          "base_uri": "https://localhost:8080/",
          "height": 68
        },
        "outputId": "641df07e-520c-432a-aee1-ce45c7ec0122"
      },
      "source": [
        "# Run the operation without the need for tf.Session\n",
        "print(\"Running operations, without tf.Session\")\n",
        "c = a + b\n",
        "print(\"a + b = %i\" % c)\n",
        "d = a * b\n",
        "print(\"a * b = %i\" % d)\n",
        "\n"
      ],
      "execution_count": 5,
      "outputs": [
        {
          "output_type": "stream",
          "text": [
            "Running operations, without tf.Session\n",
            "a + b = 5\n",
            "a * b = 6\n"
          ],
          "name": "stdout"
        }
      ]
    },
    {
      "cell_type": "code",
      "metadata": {
        "id": "g9zjROJobvP3",
        "colab_type": "code",
        "colab": {
          "base_uri": "https://localhost:8080/",
          "height": 170
        },
        "outputId": "bc18f9c9-0b63-4eae-f5bb-b4d2e4a3dca1"
      },
      "source": [
        "# Full compatibility with Numpy\n",
        "print(\"Mixing operations with Tensors and Numpy Arrays\")\n",
        "\n",
        "import numpy as np\n",
        "# Define constant tensors\n",
        "a = tf.constant([[2., 1.],\n",
        "                 [1., 0.]], dtype=tf.float32)\n",
        "print(\"Tensor:\\n a = %s\" % a)\n",
        "b = np.array([[3., 0.],\n",
        "              [5., 1.]], dtype=np.float32)\n",
        "print(\"NumpyArray:\\n b = %s\" % b)\n",
        "\n",
        "# Run the operation without the need for tf.Session\n",
        "print(\"Running operations, without tf.Session\")\n",
        "\n"
      ],
      "execution_count": 7,
      "outputs": [
        {
          "output_type": "stream",
          "text": [
            "Mixing operations with Tensors and Numpy Arrays\n",
            "Tensor:\n",
            " a = tf.Tensor(\n",
            "[[2. 1.]\n",
            " [1. 0.]], shape=(2, 2), dtype=float32)\n",
            "NumpyArray:\n",
            " b = [[3. 0.]\n",
            " [5. 1.]]\n",
            "Running operations, without tf.Session\n"
          ],
          "name": "stdout"
        }
      ]
    },
    {
      "cell_type": "code",
      "metadata": {
        "id": "bw2aTLG6b5MZ",
        "colab_type": "code",
        "colab": {
          "base_uri": "https://localhost:8080/",
          "height": 204
        },
        "outputId": "315431cd-1114-4a80-ba8d-e10b73e5bf68"
      },
      "source": [
        "c = a + b\n",
        "print(\"a + b = %s\" % c)\n",
        "\n",
        "d = tf.matmul(a, b)\n",
        "print(\"a * b = %s\" % d)\n",
        "\n",
        "print(\"Iterate through Tensor 'a':\")\n",
        "for i in range(a.shape[0]):\n",
        "    for j in range(a.shape[1]):\n",
        "        print(a[i][j])\n"
      ],
      "execution_count": 8,
      "outputs": [
        {
          "output_type": "stream",
          "text": [
            "a + b = tf.Tensor(\n",
            "[[5. 1.]\n",
            " [6. 1.]], shape=(2, 2), dtype=float32)\n",
            "a * b = tf.Tensor(\n",
            "[[11.  1.]\n",
            " [ 3.  0.]], shape=(2, 2), dtype=float32)\n",
            "Iterate through Tensor 'a':\n",
            "tf.Tensor(2.0, shape=(), dtype=float32)\n",
            "tf.Tensor(1.0, shape=(), dtype=float32)\n",
            "tf.Tensor(1.0, shape=(), dtype=float32)\n",
            "tf.Tensor(0.0, shape=(), dtype=float32)\n"
          ],
          "name": "stdout"
        }
      ]
    },
    {
      "cell_type": "code",
      "metadata": {
        "id": "WSI-XxS8cCKG",
        "colab_type": "code",
        "colab": {}
      },
      "source": [
        ""
      ],
      "execution_count": 0,
      "outputs": []
    }
  ]
}